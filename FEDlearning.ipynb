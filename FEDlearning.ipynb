{
  "cells": [
    {
      "cell_type": "code",
      "source": [
        "!pip install medmnist\n",
        "!pip install flwr[simulation]\n",
        "!pip install tenseal"
      ],
      "metadata": {
        "colab": {
          "base_uri": "https://localhost:8080/"
        },
        "id": "8GW7YKNXXckc",
        "outputId": "cb98259f-e2d3-44e9-be72-a965fd3f82f4"
      },
      "execution_count": 131,
      "outputs": [
        {
          "output_type": "stream",
          "name": "stderr",
          "text": [
            "/usr/local/lib/python3.11/dist-packages/ipykernel/ipkernel.py:283: DeprecationWarning: `should_run_async` will not call `transform_cell` automatically in the future. Please pass the result to `transformed_cell` argument and any exception that happen during thetransform in `preprocessing_exc_tuple` in IPython 7.17 and above.\n",
            "  and should_run_async(code)\n"
          ]
        },
        {
          "output_type": "stream",
          "name": "stdout",
          "text": [
            "Requirement already satisfied: medmnist in /usr/local/lib/python3.11/dist-packages (3.0.2)\n",
            "Requirement already satisfied: numpy in /usr/local/lib/python3.11/dist-packages (from medmnist) (1.26.4)\n",
            "Requirement already satisfied: pandas in /usr/local/lib/python3.11/dist-packages (from medmnist) (2.2.2)\n",
            "Requirement already satisfied: scikit-learn in /usr/local/lib/python3.11/dist-packages (from medmnist) (1.6.1)\n",
            "Requirement already satisfied: scikit-image in /usr/local/lib/python3.11/dist-packages (from medmnist) (0.25.1)\n",
            "Requirement already satisfied: tqdm in /usr/local/lib/python3.11/dist-packages (from medmnist) (4.67.1)\n",
            "Requirement already satisfied: Pillow in /usr/local/lib/python3.11/dist-packages (from medmnist) (11.1.0)\n",
            "Requirement already satisfied: fire in /usr/local/lib/python3.11/dist-packages (from medmnist) (0.7.0)\n",
            "Requirement already satisfied: torch in /usr/local/lib/python3.11/dist-packages (from medmnist) (2.5.1+cu124)\n",
            "Requirement already satisfied: torchvision in /usr/local/lib/python3.11/dist-packages (from medmnist) (0.20.1+cu124)\n",
            "Requirement already satisfied: termcolor in /usr/local/lib/python3.11/dist-packages (from fire->medmnist) (2.5.0)\n",
            "Requirement already satisfied: python-dateutil>=2.8.2 in /usr/local/lib/python3.11/dist-packages (from pandas->medmnist) (2.8.2)\n",
            "Requirement already satisfied: pytz>=2020.1 in /usr/local/lib/python3.11/dist-packages (from pandas->medmnist) (2025.1)\n",
            "Requirement already satisfied: tzdata>=2022.7 in /usr/local/lib/python3.11/dist-packages (from pandas->medmnist) (2025.1)\n",
            "Requirement already satisfied: scipy>=1.11.2 in /usr/local/lib/python3.11/dist-packages (from scikit-image->medmnist) (1.13.1)\n",
            "Requirement already satisfied: networkx>=3.0 in /usr/local/lib/python3.11/dist-packages (from scikit-image->medmnist) (3.4.2)\n",
            "Requirement already satisfied: imageio!=2.35.0,>=2.33 in /usr/local/lib/python3.11/dist-packages (from scikit-image->medmnist) (2.37.0)\n",
            "Requirement already satisfied: tifffile>=2022.8.12 in /usr/local/lib/python3.11/dist-packages (from scikit-image->medmnist) (2025.1.10)\n",
            "Requirement already satisfied: packaging>=21 in /usr/local/lib/python3.11/dist-packages (from scikit-image->medmnist) (24.2)\n",
            "Requirement already satisfied: lazy-loader>=0.4 in /usr/local/lib/python3.11/dist-packages (from scikit-image->medmnist) (0.4)\n",
            "Requirement already satisfied: joblib>=1.2.0 in /usr/local/lib/python3.11/dist-packages (from scikit-learn->medmnist) (1.4.2)\n",
            "Requirement already satisfied: threadpoolctl>=3.1.0 in /usr/local/lib/python3.11/dist-packages (from scikit-learn->medmnist) (3.5.0)\n",
            "Requirement already satisfied: filelock in /usr/local/lib/python3.11/dist-packages (from torch->medmnist) (3.17.0)\n",
            "Requirement already satisfied: typing-extensions>=4.8.0 in /usr/local/lib/python3.11/dist-packages (from torch->medmnist) (4.12.2)\n",
            "Requirement already satisfied: jinja2 in /usr/local/lib/python3.11/dist-packages (from torch->medmnist) (3.1.5)\n",
            "Requirement already satisfied: fsspec in /usr/local/lib/python3.11/dist-packages (from torch->medmnist) (2024.10.0)\n",
            "Requirement already satisfied: nvidia-cuda-nvrtc-cu12==12.4.127 in /usr/local/lib/python3.11/dist-packages (from torch->medmnist) (12.4.127)\n",
            "Requirement already satisfied: nvidia-cuda-runtime-cu12==12.4.127 in /usr/local/lib/python3.11/dist-packages (from torch->medmnist) (12.4.127)\n",
            "Requirement already satisfied: nvidia-cuda-cupti-cu12==12.4.127 in /usr/local/lib/python3.11/dist-packages (from torch->medmnist) (12.4.127)\n",
            "Requirement already satisfied: nvidia-cudnn-cu12==9.1.0.70 in /usr/local/lib/python3.11/dist-packages (from torch->medmnist) (9.1.0.70)\n",
            "Requirement already satisfied: nvidia-cublas-cu12==12.4.5.8 in /usr/local/lib/python3.11/dist-packages (from torch->medmnist) (12.4.5.8)\n",
            "Requirement already satisfied: nvidia-cufft-cu12==11.2.1.3 in /usr/local/lib/python3.11/dist-packages (from torch->medmnist) (11.2.1.3)\n",
            "Requirement already satisfied: nvidia-curand-cu12==10.3.5.147 in /usr/local/lib/python3.11/dist-packages (from torch->medmnist) (10.3.5.147)\n",
            "Requirement already satisfied: nvidia-cusolver-cu12==11.6.1.9 in /usr/local/lib/python3.11/dist-packages (from torch->medmnist) (11.6.1.9)\n",
            "Requirement already satisfied: nvidia-cusparse-cu12==12.3.1.170 in /usr/local/lib/python3.11/dist-packages (from torch->medmnist) (12.3.1.170)\n",
            "Requirement already satisfied: nvidia-nccl-cu12==2.21.5 in /usr/local/lib/python3.11/dist-packages (from torch->medmnist) (2.21.5)\n",
            "Requirement already satisfied: nvidia-nvtx-cu12==12.4.127 in /usr/local/lib/python3.11/dist-packages (from torch->medmnist) (12.4.127)\n",
            "Requirement already satisfied: nvidia-nvjitlink-cu12==12.4.127 in /usr/local/lib/python3.11/dist-packages (from torch->medmnist) (12.4.127)\n",
            "Requirement already satisfied: triton==3.1.0 in /usr/local/lib/python3.11/dist-packages (from torch->medmnist) (3.1.0)\n",
            "Requirement already satisfied: sympy==1.13.1 in /usr/local/lib/python3.11/dist-packages (from torch->medmnist) (1.13.1)\n",
            "Requirement already satisfied: mpmath<1.4,>=1.1.0 in /usr/local/lib/python3.11/dist-packages (from sympy==1.13.1->torch->medmnist) (1.3.0)\n",
            "Requirement already satisfied: six>=1.5 in /usr/local/lib/python3.11/dist-packages (from python-dateutil>=2.8.2->pandas->medmnist) (1.17.0)\n",
            "Requirement already satisfied: MarkupSafe>=2.0 in /usr/local/lib/python3.11/dist-packages (from jinja2->torch->medmnist) (3.0.2)\n",
            "Requirement already satisfied: flwr[simulation] in /usr/local/lib/python3.11/dist-packages (1.15.2)\n",
            "Requirement already satisfied: cryptography<44.0.0,>=43.0.1 in /usr/local/lib/python3.11/dist-packages (from flwr[simulation]) (43.0.3)\n",
            "Requirement already satisfied: grpcio!=1.65.0,<2.0.0,>=1.62.3 in /usr/local/lib/python3.11/dist-packages (from flwr[simulation]) (1.70.0)\n",
            "Requirement already satisfied: iterators<0.0.3,>=0.0.2 in /usr/local/lib/python3.11/dist-packages (from flwr[simulation]) (0.0.2)\n",
            "Requirement already satisfied: numpy<3.0.0,>=1.26.0 in /usr/local/lib/python3.11/dist-packages (from flwr[simulation]) (1.26.4)\n",
            "Requirement already satisfied: pathspec<0.13.0,>=0.12.1 in /usr/local/lib/python3.11/dist-packages (from flwr[simulation]) (0.12.1)\n",
            "Requirement already satisfied: protobuf<5.0.0,>=4.21.6 in /usr/local/lib/python3.11/dist-packages (from flwr[simulation]) (4.25.6)\n",
            "Requirement already satisfied: pycryptodome<4.0.0,>=3.18.0 in /usr/local/lib/python3.11/dist-packages (from flwr[simulation]) (3.21.0)\n",
            "Requirement already satisfied: pyyaml<7.0.0,>=6.0.2 in /usr/local/lib/python3.11/dist-packages (from flwr[simulation]) (6.0.2)\n",
            "Requirement already satisfied: ray==2.31.0 in /usr/local/lib/python3.11/dist-packages (from flwr[simulation]) (2.31.0)\n",
            "Requirement already satisfied: requests<3.0.0,>=2.31.0 in /usr/local/lib/python3.11/dist-packages (from flwr[simulation]) (2.32.3)\n",
            "Requirement already satisfied: rich<14.0.0,>=13.5.0 in /usr/local/lib/python3.11/dist-packages (from flwr[simulation]) (13.9.4)\n",
            "Requirement already satisfied: tomli<3.0.0,>=2.0.1 in /usr/local/lib/python3.11/dist-packages (from flwr[simulation]) (2.2.1)\n",
            "Requirement already satisfied: tomli-w<2.0.0,>=1.0.0 in /usr/local/lib/python3.11/dist-packages (from flwr[simulation]) (1.2.0)\n",
            "Requirement already satisfied: typer<0.13.0,>=0.12.5 in /usr/local/lib/python3.11/dist-packages (from flwr[simulation]) (0.12.5)\n",
            "Requirement already satisfied: click>=7.0 in /usr/local/lib/python3.11/dist-packages (from ray==2.31.0->flwr[simulation]) (8.1.8)\n",
            "Requirement already satisfied: filelock in /usr/local/lib/python3.11/dist-packages (from ray==2.31.0->flwr[simulation]) (3.17.0)\n",
            "Requirement already satisfied: jsonschema in /usr/local/lib/python3.11/dist-packages (from ray==2.31.0->flwr[simulation]) (4.23.0)\n",
            "Requirement already satisfied: msgpack<2.0.0,>=1.0.0 in /usr/local/lib/python3.11/dist-packages (from ray==2.31.0->flwr[simulation]) (1.1.0)\n",
            "Requirement already satisfied: packaging in /usr/local/lib/python3.11/dist-packages (from ray==2.31.0->flwr[simulation]) (24.2)\n",
            "Requirement already satisfied: aiosignal in /usr/local/lib/python3.11/dist-packages (from ray==2.31.0->flwr[simulation]) (1.3.2)\n",
            "Requirement already satisfied: frozenlist in /usr/local/lib/python3.11/dist-packages (from ray==2.31.0->flwr[simulation]) (1.5.0)\n",
            "Requirement already satisfied: cffi>=1.12 in /usr/local/lib/python3.11/dist-packages (from cryptography<44.0.0,>=43.0.1->flwr[simulation]) (1.17.1)\n",
            "Requirement already satisfied: charset-normalizer<4,>=2 in /usr/local/lib/python3.11/dist-packages (from requests<3.0.0,>=2.31.0->flwr[simulation]) (3.4.1)\n",
            "Requirement already satisfied: idna<4,>=2.5 in /usr/local/lib/python3.11/dist-packages (from requests<3.0.0,>=2.31.0->flwr[simulation]) (3.10)\n",
            "Requirement already satisfied: urllib3<3,>=1.21.1 in /usr/local/lib/python3.11/dist-packages (from requests<3.0.0,>=2.31.0->flwr[simulation]) (2.3.0)\n",
            "Requirement already satisfied: certifi>=2017.4.17 in /usr/local/lib/python3.11/dist-packages (from requests<3.0.0,>=2.31.0->flwr[simulation]) (2025.1.31)\n",
            "Requirement already satisfied: markdown-it-py>=2.2.0 in /usr/local/lib/python3.11/dist-packages (from rich<14.0.0,>=13.5.0->flwr[simulation]) (3.0.0)\n",
            "Requirement already satisfied: pygments<3.0.0,>=2.13.0 in /usr/local/lib/python3.11/dist-packages (from rich<14.0.0,>=13.5.0->flwr[simulation]) (2.18.0)\n",
            "Requirement already satisfied: typing-extensions>=3.7.4.3 in /usr/local/lib/python3.11/dist-packages (from typer<0.13.0,>=0.12.5->flwr[simulation]) (4.12.2)\n",
            "Requirement already satisfied: shellingham>=1.3.0 in /usr/local/lib/python3.11/dist-packages (from typer<0.13.0,>=0.12.5->flwr[simulation]) (1.5.4)\n",
            "Requirement already satisfied: pycparser in /usr/local/lib/python3.11/dist-packages (from cffi>=1.12->cryptography<44.0.0,>=43.0.1->flwr[simulation]) (2.22)\n",
            "Requirement already satisfied: mdurl~=0.1 in /usr/local/lib/python3.11/dist-packages (from markdown-it-py>=2.2.0->rich<14.0.0,>=13.5.0->flwr[simulation]) (0.1.2)\n",
            "Requirement already satisfied: attrs>=22.2.0 in /usr/local/lib/python3.11/dist-packages (from jsonschema->ray==2.31.0->flwr[simulation]) (25.1.0)\n",
            "Requirement already satisfied: jsonschema-specifications>=2023.03.6 in /usr/local/lib/python3.11/dist-packages (from jsonschema->ray==2.31.0->flwr[simulation]) (2024.10.1)\n",
            "Requirement already satisfied: referencing>=0.28.4 in /usr/local/lib/python3.11/dist-packages (from jsonschema->ray==2.31.0->flwr[simulation]) (0.36.2)\n",
            "Requirement already satisfied: rpds-py>=0.7.1 in /usr/local/lib/python3.11/dist-packages (from jsonschema->ray==2.31.0->flwr[simulation]) (0.22.3)\n",
            "Requirement already satisfied: tenseal in /usr/local/lib/python3.11/dist-packages (0.3.15)\n"
          ]
        }
      ]
    },
    {
      "cell_type": "code",
      "execution_count": 132,
      "metadata": {
        "id": "vucMMFXsW2sh",
        "colab": {
          "base_uri": "https://localhost:8080/"
        },
        "outputId": "a844c43f-00b7-4002-ea78-78b258fe8406"
      },
      "outputs": [
        {
          "output_type": "stream",
          "name": "stdout",
          "text": [
            "Flower 1.15.2\n"
          ]
        }
      ],
      "source": [
        "import numpy as np\n",
        "from collections import OrderedDict\n",
        "import matplotlib.pyplot as plt\n",
        "import torch\n",
        "import torch.nn as nn\n",
        "import torch.optim as optim\n",
        "from torch.utils.data import DataLoader, Subset\n",
        "from torchvision import transforms\n",
        "from medmnist import PathMNIST\n",
        "import flwr as fl\n",
        "from typing import Dict, List, Tuple\n",
        "from flwr.common import Context, Metrics, ndarrays_to_parameters\n",
        "from flwr.client import Client, ClientApp, NumPyClient\n",
        "from flwr.common import log\n",
        "from flwr.common import Scalar,NDArrays\n",
        "from flwr.server import ServerApp, ServerConfig, ServerAppComponents\n",
        "from flwr.server.strategy import FedAvg\n",
        "from flwr.simulation import run_simulation\n",
        "from torchvision.models import resnet18,ResNet18_Weights,efficientnet_b0, EfficientNet_B0_Weights,mobilenet_v3_small,MobileNet_V3_Small_Weights\n",
        "import tenseal as ts\n",
        "device = torch.device(\"cuda\" if torch.cuda.is_available() else \"cpu\")\n",
        "print(f\"Flower {fl.__version__}\")"
      ]
    },
    {
      "cell_type": "markdown",
      "metadata": {
        "id": "xbIu8qxeW2sm"
      },
      "source": [
        "# `1.Define THE  MODEL`"
      ]
    },
    {
      "cell_type": "code",
      "source": [
        "\n",
        "num_classes = 9\n",
        "\n",
        "modeleff = efficientnet_b0(weights=EfficientNet_B0_Weights.IMAGENET1K_V1)\n",
        "modeleff.classifier[1] = nn.Linear(modeleff.classifier[1].in_features, num_classes)\n",
        "modelefficient=modeleff.to(device)\n"
      ],
      "metadata": {
        "id": "0IMfyuz0hQ2G"
      },
      "execution_count": 133,
      "outputs": []
    },
    {
      "cell_type": "code",
      "source": [
        "modelnetV3 = mobilenet_v3_small(weights=MobileNet_V3_Small_Weights.DEFAULT)\n",
        "modelnetV3.classifier[3] = nn.Linear(modelnetV3.classifier[3].in_features, num_classes)\n",
        "modelnetV3 = modelnetV3.to(device)"
      ],
      "metadata": {
        "id": "osgInsb_iyWq"
      },
      "execution_count": 134,
      "outputs": []
    },
    {
      "cell_type": "markdown",
      "metadata": {
        "id": "14EwdTljW2so"
      },
      "source": [
        "# `2.Traning & validation Function`"
      ]
    },
    {
      "cell_type": "code",
      "execution_count": 135,
      "metadata": {
        "id": "EdM5aFj1W2sp"
      },
      "outputs": [],
      "source": [
        "\n",
        "def train_epoch(model, train_loader):\n",
        "    \"\"\"Train model for one epoch.\"\"\"\n",
        "    model.train()\n",
        "    correct, total, running_loss = 0,0,0.0\n",
        "    criterion = nn.CrossEntropyLoss()\n",
        "    optimizer = optim.AdamW(model.parameters(), lr=0.001, weight_decay=1e-4)\n",
        "\n",
        "    for inputs, labels in train_loader:\n",
        "        inputs, labels = inputs.to(device), labels.squeeze().to(device)\n",
        "        optimizer.zero_grad() # Clear gradients\n",
        "        outputs = model(inputs)# Forward pass\n",
        "        loss = criterion(outputs, labels)# Compute loss\n",
        "        loss.backward() # Backward pass (compute gradients)\n",
        "        optimizer.step()# Update weights\n",
        "\n",
        "        running_loss += loss.item()\n",
        "        _, predicted = torch.max(outputs, 1)\n",
        "        total += labels.size(0)\n",
        "        correct += predicted.eq(labels).sum().item()\n",
        "\n",
        "    train_loss = running_loss / len(train_loader)\n",
        "    train_acc = 100 * correct / total\n",
        "    return train_loss, train_acc\n",
        "\n",
        "\n",
        "def validate(model, val_loader):\n",
        "    \"\"\"Validate model on validation set.\"\"\"\n",
        "    model.eval() # Set the model to evaluation mode\n",
        "    correct, total, val_loss = 0,0,0.0\n",
        "    criterion = nn.CrossEntropyLoss()\n",
        "    with torch.no_grad():  # Disable gradient computation\n",
        "        for inputs, labels in val_loader:\n",
        "            inputs, labels = inputs.to(device), labels.squeeze().to(device)\n",
        "            outputs = model(inputs)  # Forward pass\n",
        "            loss = criterion(outputs, labels)# Compute loss\n",
        "\n",
        "            val_loss += loss.item()\n",
        "            _, predicted = torch.max(outputs, 1) # Get predicted class\n",
        "            total += labels.size(0)\n",
        "            correct += predicted.eq(labels).sum().item()\n",
        "\n",
        "    val_loss = val_loss / len(val_loader)\n",
        "    val_acc = 100 * correct / total\n",
        "    return val_loss, val_acc\n"
      ]
    },
    {
      "cell_type": "markdown",
      "metadata": {
        "id": "IrxQ_RCrW2sq"
      },
      "source": [
        "## `Train and Validate  the  model `"
      ]
    },
    {
      "cell_type": "code",
      "execution_count": 136,
      "metadata": {
        "id": "vJqPArIUW2sr"
      },
      "outputs": [],
      "source": [
        "def train_model(model, train_loader, val_loader, num_epochs):\n",
        "    \"\"\"Full training loop with validation.\"\"\"\n",
        "    train_losses, val_losses = [], []\n",
        "    train_accuracies, val_accuracies = [], []\n",
        "\n",
        "    for epoch in range(num_epochs):\n",
        "        train_loss, train_acc = train_epoch(model, train_loader)\n",
        "        train_losses.append(train_loss)\n",
        "        train_accuracies.append(train_acc)\n",
        "        val_loss, val_acc = validate(model, val_loader)\n",
        "        # Store metrics\n",
        "        val_losses.append(val_loss)\n",
        "        val_accuracies.append(val_acc)\n",
        "\n",
        "        print(f\"Epoch {epoch+1}/{num_epochs}: \"\n",
        "              f\"Train Loss: {train_loss:.4f}, Train Acc: {train_acc:.2f}% | \"\n",
        "              f\"Val Loss: {val_loss:.4f}, Val Acc: {val_acc:.2f}%\")\n",
        "\n",
        "    return train_losses, train_accuracies, val_losses, val_accuracies"
      ]
    },
    {
      "cell_type": "markdown",
      "metadata": {
        "id": "NF6w805DW2ss"
      },
      "source": [
        "# `3.Evaluation THE Model`"
      ]
    },
    {
      "cell_type": "code",
      "execution_count": 137,
      "metadata": {
        "id": "bdPGwJoTW2ss"
      },
      "outputs": [],
      "source": [
        "\n",
        "def evaluate_model(model, test_loader):\n",
        "    \"\"\"Evaluate model on test set and return predictions/labels.\"\"\"\n",
        "    model.eval()\n",
        "    total = 0\n",
        "    correct = 0\n",
        "    test_loss = 0.0\n",
        "    all_preds = []\n",
        "    all_labels = []\n",
        "    criterion = nn.CrossEntropyLoss()\n",
        "    with torch.no_grad():\n",
        "        for inputs, labels in test_loader:\n",
        "            inputs, labels = inputs.to(device),labels.squeeze().to(device)\n",
        "            outputs = model(inputs)\n",
        "            loss = criterion(outputs, labels)\n",
        "\n",
        "            test_loss += loss.item()\n",
        "            _, preds = torch.max(outputs, 1)\n",
        "            all_preds.extend(preds.cpu().numpy())\n",
        "            all_labels.extend(labels.cpu().numpy())\n",
        "            total += labels.size(0)\n",
        "            correct += preds.eq(labels).sum().item()\n",
        "\n",
        "    test_loss = test_loss / len(test_loader)\n",
        "    test_acc = 100 * correct / total\n",
        "    return test_loss,test_acc,np.array(all_preds), np.array(all_labels)"
      ]
    },
    {
      "cell_type": "markdown",
      "metadata": {
        "id": "Qidxs4MrW2st"
      },
      "source": [
        "# `4.Lead THE DATASET`"
      ]
    },
    {
      "cell_type": "code",
      "execution_count": 138,
      "metadata": {
        "id": "VzqViSBsW2su"
      },
      "outputs": [],
      "source": [
        "\n",
        "# Set random seeds for reproducibility\n",
        "torch.manual_seed(42)\n",
        "NUM_CLIENTS = 10\n",
        "BATCH_SIZE = 64\n"
      ]
    },
    {
      "cell_type": "code",
      "source": [
        "def load_full_datasets():\n",
        "    \"\"\"\n",
        "    Load the complete PathMNIST dataset splits with appropriate transformations.\n",
        "\n",
        "    Returns:\n",
        "        tuple: (train_dataset, val_dataset, test_dataset)\n",
        "    \"\"\"\n",
        "    # Transformations for training data (with augmentation)\n",
        "    train_transform = transforms.Compose([\n",
        "        transforms.Resize((224, 224)),\n",
        "        transforms.RandomHorizontalFlip(),\n",
        "        transforms.RandomRotation(10),\n",
        "        transforms.ColorJitter(0.2, 0.2, 0.2, 0.1),\n",
        "        transforms.ToTensor(),\n",
        "        transforms.Normalize(mean=[0.5, 0.5, 0.5], std=[0.5, 0.5, 0.5])\n",
        "    ])\n",
        "\n",
        "    # Transformations for validation and testing (without augmentation)\n",
        "    test_transform = transforms.Compose([\n",
        "        transforms.Resize((224, 224)),\n",
        "        transforms.ToTensor(),\n",
        "        transforms.Normalize(mean=[0.5, 0.5, 0.5], std=[0.5, 0.5, 0.5])\n",
        "    ])\n",
        "\n",
        "    # Load the full datasets\n",
        "    train_dataset = PathMNIST(split='train', transform=train_transform, download=True)\n",
        "    val_dataset = PathMNIST(split='val', transform=test_transform, download=True)\n",
        "    test_dataset = PathMNIST(split='test', transform=test_transform, download=True)\n",
        "\n",
        "    return train_dataset, val_dataset, test_dataset"
      ],
      "metadata": {
        "id": "CWVsE3D0-GnQ"
      },
      "execution_count": 139,
      "outputs": []
    },
    {
      "cell_type": "code",
      "source": [
        "def partition_dataset(dataset, num_partitions: int):\n",
        "    \"\"\"\n",
        "    Partition a dataset into a specified number of subsets.\n",
        "\n",
        "    Args:\n",
        "        dataset: The complete dataset to partition.\n",
        "        num_partitions (int): Number of partitions (e.g., number of clients).\n",
        "\n",
        "    Returns:\n",
        "        list: A list of Subset objects, each corresponding to one partition.\n",
        "    \"\"\"\n",
        "    # Shuffle dataset indices randomly\n",
        "    indices = np.random.permutation(len(dataset))\n",
        "    # Split indices into num_partitions parts\n",
        "    partitions_indices = np.array_split(indices, num_partitions)\n",
        "    # Create a Subset for each partition\n",
        "    subsets = [Subset(dataset, idx) for idx in partitions_indices]\n",
        "    return subsets"
      ],
      "metadata": {
        "id": "r0i8lEaTM8eJ"
      },
      "execution_count": 140,
      "outputs": []
    },
    {
      "cell_type": "code",
      "source": [
        "def partition_dataset_dirichlet(dataset, num_partitions: int, alpha: float = 0.5):\n",
        "    \"\"\"\n",
        "    Partition a dataset using a Dirichlet distribution for a non-IID split.\n",
        "\n",
        "    Args:\n",
        "        dataset: The complete dataset to partition.\n",
        "        num_partitions (int): Number of partitions (e.g., number of clients).\n",
        "        alpha (float): Concentration parameter for the Dirichlet distribution.\n",
        "                       Smaller values yield a more non-IID split.\n",
        "\n",
        "    Returns:\n",
        "        list: A list of Subset objects, each corresponding to one partition.\n",
        "    \"\"\"\n",
        "    # Extract labels from the dataset\n",
        "    targets = [\n",
        "        int(dataset[i][1].item()) if hasattr(dataset[i][1], 'item') else int(dataset[i][1])\n",
        "        for i in range(len(dataset))\n",
        "    ]\n",
        "    targets = np.array(targets)\n",
        "    classes = np.unique(targets)\n",
        "\n",
        "    # Initialize lists to store indices for each client\n",
        "    client_indices = [[] for _ in range(num_partitions)]\n",
        "\n",
        "    # For each class, split the indices among clients based on Dirichlet proportions\n",
        "    for c in classes:\n",
        "        idx_c = np.where(targets == c)[0]\n",
        "        np.random.shuffle(idx_c)\n",
        "\n",
        "        # Sample a probability vector from the Dirichlet distribution\n",
        "        proportions = np.random.dirichlet(np.repeat(alpha, num_partitions))\n",
        "\n",
        "        # Determine the number of samples for each client from this class\n",
        "        # First, get the raw counts (rounded down)\n",
        "        counts = (proportions * len(idx_c)).astype(int)\n",
        "        # Adjust counts so that they sum to the total number of samples in this class\n",
        "        diff = len(idx_c) - np.sum(counts)\n",
        "        for d in range(diff):\n",
        "            counts[d % num_partitions] += 1\n",
        "\n",
        "        # Split indices according to these counts\n",
        "        splits = np.split(idx_c, np.cumsum(counts)[:-1])\n",
        "        for i, split in enumerate(splits):\n",
        "            client_indices[i].extend(split.tolist())\n",
        "\n",
        "    # Create a Subset for each client\n",
        "    subsets = [Subset(dataset, indices) for indices in client_indices]\n",
        "    return subsets\n"
      ],
      "metadata": {
        "id": "wYMmhJDVNEL7"
      },
      "execution_count": 141,
      "outputs": []
    },
    {
      "cell_type": "code",
      "source": [
        "def load_client_datasets(partition_id: int, num_clients: int = NUM_CLIENTS):\n",
        "    \"\"\"\n",
        "    Load the client-specific DataLoaders by partitioning the training and validation datasets.\n",
        "\n",
        "    Args:\n",
        "        partition_id (int): The client index (from 0 to num_clients-1).\n",
        "        num_clients (int): Total number of clients.\n",
        "\n",
        "    Returns:\n",
        "        tuple: (train_loader, val_loader, test_loader)\n",
        "    \"\"\"\n",
        "    # Load the full datasets\n",
        "    train_dataset, val_dataset, test_dataset = load_full_datasets()\n",
        "\n",
        "    # Partition the training and validation datasets\n",
        "    train_subsets = partition_dataset(train_dataset, num_clients)\n",
        "    val_subsets = partition_dataset(val_dataset, num_clients)\n",
        "\n",
        "    # Retrieve the subset for the specific client\n",
        "    client_train = train_subsets[partition_id]\n",
        "    client_val = val_subsets[partition_id]\n",
        "\n",
        "    # Create DataLoaders for each dataset\n",
        "    train_loader = DataLoader(client_train, batch_size=BATCH_SIZE, shuffle=True, num_workers=4)\n",
        "    val_loader = DataLoader(client_val, batch_size=BATCH_SIZE, shuffle=False, num_workers=4)\n",
        "    test_loader = DataLoader(test_dataset, batch_size=BATCH_SIZE, shuffle=False, num_workers=4)\n",
        "\n",
        "    return train_loader, val_loader, test_loader"
      ],
      "metadata": {
        "id": "gkql3BC5NANa"
      },
      "execution_count": 142,
      "outputs": []
    },
    {
      "cell_type": "code",
      "source": [
        "import matplotlib.pyplot as plt\n",
        "import seaborn as sns\n",
        "\n",
        "def visualize_client_data_distribution(num_clients: int = NUM_CLIENTS,alpha: float = 0.5):\n",
        "    \"\"\"\n",
        "    Visualize the distribution of dataset categories for each client.\n",
        "\n",
        "    Loads the full training dataset, partitions it among the specified number of clients,\n",
        "    and then creates a bar plot for each client showing the count of samples for each class.\n",
        "    \"\"\"\n",
        "    # Load the full training dataset (using the same transforms as before)\n",
        "    train_dataset, _, _ = load_full_datasets()\n",
        "\n",
        "    # Partition the training dataset among the clients\n",
        "    train_subsets = partition_dataset(train_dataset, num_clients)\n",
        "    #train_subsets=partition_dataset_dirichlet(train_dataset, num_clients, alpha)\n",
        "\n",
        "    # Set up the plot grid: e.g., 2 rows x 5 columns for 10 clients\n",
        "    fig, axs = plt.subplots(nrows=2, ncols=5, figsize=(20, 8))\n",
        "    axs = axs.flatten()\n",
        "\n",
        "    # Iterate through each client's subset\n",
        "    for i, subset in enumerate(train_subsets):\n",
        "        indices = subset.indices\n",
        "\n",
        "        # Retrieve labels from the original train_dataset using these indices.\n",
        "        # Use .item() if available to ensure a scalar value.\n",
        "        labels = []\n",
        "        for idx in indices:\n",
        "            label_val = train_dataset[idx][1]\n",
        "            if hasattr(label_val, 'item'):\n",
        "                label_val = label_val.item()\n",
        "            labels.append(int(label_val))\n",
        "\n",
        "        # Count occurrences for each class (from 0 to num_classes-1)\n",
        "        counts = [labels.count(cls) for cls in range(num_classes)]\n",
        "\n",
        "        # Create a bar plot for the client.\n",
        "        # We now pass the x variable to 'hue' and set dodge=False and legend=False to avoid warnings.\n",
        "        sns.barplot(\n",
        "            x=list(range(num_classes)),\n",
        "            y=counts,\n",
        "            hue=list(range(num_classes)),\n",
        "            dodge=False,\n",
        "            ax=axs[i],\n",
        "            palette=\"viridis\",\n",
        "            legend=False\n",
        "        )\n",
        "        axs[i].set_title(f'Client {i} Distribution')\n",
        "        axs[i].set_xlabel('Class')\n",
        "        axs[i].set_ylabel('Count')\n",
        "\n",
        "    plt.tight_layout()\n",
        "    plt.show()\n",
        "\n",
        "# Call the visualization function to display the plots\n",
        "'''visualize_client_data_distribution()'''\n"
      ],
      "metadata": {
        "colab": {
          "base_uri": "https://localhost:8080/",
          "height": 36
        },
        "id": "3dH6RPwVCh4D",
        "outputId": "69590f7a-2b27-447f-ed3d-f9e18dba674b"
      },
      "execution_count": 143,
      "outputs": [
        {
          "output_type": "execute_result",
          "data": {
            "text/plain": [
              "'visualize_client_data_distribution()'"
            ],
            "application/vnd.google.colaboratory.intrinsic+json": {
              "type": "string"
            }
          },
          "metadata": {},
          "execution_count": 143
        }
      ]
    },
    {
      "cell_type": "markdown",
      "metadata": {
        "id": "UdZVXCzTW2sw"
      },
      "source": [
        "# 6.Federated Learning With FLOWER"
      ]
    },
    {
      "cell_type": "code",
      "execution_count": 144,
      "metadata": {
        "id": "ROn5GyNQW2sw"
      },
      "outputs": [],
      "source": [
        "def get_parameters(model) -> List[np.ndarray]:\n",
        "    return [val.cpu().numpy() for _, val in model.state_dict().items()]\n",
        "\n",
        "def set_parameters(model, parameters: List[np.ndarray]):\n",
        "    params_dict = zip(model.state_dict().keys(), parameters)\n",
        "    state_dict = OrderedDict({k: torch.tensor(v) for k, v in params_dict})\n",
        "    model.load_state_dict(state_dict)\n"
      ]
    },
    {
      "cell_type": "code",
      "source": [
        "# Context for CKKS encryption\n",
        "context = ts.context(\n",
        "    ts.SCHEME_TYPE.CKKS,\n",
        "    poly_modulus_degree=32768,  # Degree of the polynomial modulus\n",
        "    coeff_mod_bit_sizes=[60, 40, 40, 60]  # Coefficient modulus sizes\n",
        ")\n",
        "context.generate_galois_keys()  # Generate Galois keys for rotation operations\n",
        "context.global_scale = 2**40  # Set global scale for precision\n",
        "\n",
        "def encrypt_weights(weights: List[np.ndarray]) -> List[ts.CKKSVector]:\n",
        "      \"\"\"\n",
        "      Encrypt a list of NumPy arrays (model weights) using CKKS.\n",
        "      \"\"\"\n",
        "      return [ts.ckks_vector(context, weight.flatten()) for weight in weights]\n",
        "\n",
        "def decrypt_weights(encrypted_weights: List[ts.CKKSVector], original_weights: List[np.ndarray]) -> List[np.ndarray]:\n",
        "    \"\"\"\n",
        "    Decrypt a list of CKKS vectors back into NumPy arrays.\n",
        "    Args:\n",
        "        encrypted_weights: List of encrypted weights (CKKS vectors).\n",
        "        original_weights: List of original weights (NumPy arrays) to get the shapes.\n",
        "    Returns:\n",
        "        List of decrypted weights as NumPy arrays.\n",
        "    \"\"\"\n",
        "    return [\n",
        "        np.array(enc_weight.decrypt()).reshape(original_weight.shape)  # Convert to NumPy array\n",
        "        for enc_weight, original_weight in zip(encrypted_weights, original_weights)\n",
        "    ]"
      ],
      "metadata": {
        "id": "5MBgU3-yQZY5"
      },
      "execution_count": 145,
      "outputs": []
    },
    {
      "cell_type": "code",
      "source": [
        "# Extract initial weights from the model\n",
        "initial_weights = get_parameters(modeleff)\n",
        "print(initial_weights)"
      ],
      "metadata": {
        "id": "4pUe93X_ZTVP"
      },
      "execution_count": null,
      "outputs": []
    },
    {
      "cell_type": "code",
      "source": [
        "# Encrypt the weights\n",
        "encrypted_weights = encrypt_weights(initial_weights)\n",
        "print(\"Weights encrypted successfully!\")"
      ],
      "metadata": {
        "id": "AWzQ2cV6Zion"
      },
      "execution_count": null,
      "outputs": []
    },
    {
      "cell_type": "code",
      "source": [
        "# Decrypt the weights\n",
        "decrypted_weights = decrypt_weights(encrypted_weights, initial_weights)\n",
        "print(\"Weights decrypted successfully!\")\n",
        "print(decrypted_weights)\n",
        "\n",
        "# Verify integrity\n",
        "for orig, decrypted in zip(initial_weights, decrypted_weights):\n",
        "    assert np.allclose(orig, decrypted, atol=1e-3), \"Decrypted weights do not match original weights!\"\n",
        "\n",
        "print(\"Encryption and decryption verified successfully!\")"
      ],
      "metadata": {
        "id": "pCNW7I9bQtFs"
      },
      "execution_count": null,
      "outputs": []
    },
    {
      "cell_type": "markdown",
      "metadata": {
        "id": "JBnjyGmOW2sx"
      },
      "source": [
        "### 6.1. Define the Flower ClientApp"
      ]
    },
    {
      "cell_type": "code",
      "execution_count": null,
      "metadata": {
        "id": "A-AIb1rAW2sx"
      },
      "outputs": [],
      "source": [
        "class FlowerClient(NumPyClient):\n",
        "    def __init__(self,partition_id,model, train_loader, val_loader):\n",
        "        self.partition_id = partition_id\n",
        "        self.model = model\n",
        "        self.train_loader = train_loader\n",
        "        self.val_loader = val_loader\n",
        "\n",
        "\n",
        "    def get_parameters(self, config) :\n",
        "        #get the model parameters and return them as a list of NumPy ndarray’s\n",
        "        print(f\"[Client {self.partition_id}] get_parameters\")\n",
        "        return get_parameters(self.model)\n",
        "\n",
        "    def fit(self, parameters: List[np.ndarray], config: Dict) -> Tuple[List[np.ndarray], int, Dict]:\n",
        "        print(f\"[Client {self.partition_id}] fit, config: {config}\")\n",
        "        set_parameters(self.model, parameters)#Update the parameters of the local model with the parameters received from the server\n",
        "        train_loss, train_acc = train_epoch(self.model, self.train_loader)#Train the updated model on the local train dataset\n",
        "        return self.get_parameters({}), len(self.train_loader), {\"train_loss\": train_loss}\n",
        "\n",
        "    def evaluate(self, parameters: List[np.ndarray], config: Dict) -> Tuple[float, int, Dict]:\n",
        "        print(f\"[Client {self.partition_id}] evaluate, config: {config}\")\n",
        "        set_parameters(self.model, parameters)\n",
        "        val_loss, val_acc = validate(self.model, self.val_loader)\n",
        "        return float(val_loss), len(self.val_loader), {\"val_acc\": float(val_acc)}"
      ]
    },
    {
      "cell_type": "code",
      "execution_count": null,
      "metadata": {
        "id": "OyPGpUTFW2sx"
      },
      "outputs": [],
      "source": [
        "def client_fn(context: Context) ->Client:\n",
        "    \"\"\"Create Flower client with partition ID.\"\"\"\n",
        "    model=modelnetV3\n",
        "    partition_id = context.node_config[\"partition-id\"]\n",
        "    train_loader, val_loader, _ =load_client_datasets(partition_id)\n",
        "    return FlowerClient(partition_id,model,train_loader, val_loader).to_client()\n",
        "\n",
        "client_app = ClientApp(client_fn=client_fn)"
      ]
    },
    {
      "cell_type": "markdown",
      "metadata": {
        "id": "PH8aCrK5W2sy"
      },
      "source": [
        "### 6.2 function Aggregation validation accuracy across clients"
      ]
    },
    {
      "cell_type": "code",
      "execution_count": null,
      "metadata": {
        "id": "jO9f7QlHW2sy"
      },
      "outputs": [],
      "source": [
        "def weighted_average(metrics: List[Tuple[int, Metrics]]) -> Metrics:\n",
        "    val_accs = [num_examples * m[\"val_acc\"] for num_examples, m in metrics]\n",
        "    examples = [num_examples for num_examples, _ in metrics]\n",
        "    return {\"val_acc\": sum(val_accs) / sum(examples)}"
      ]
    },
    {
      "cell_type": "code",
      "execution_count": null,
      "metadata": {
        "colab": {
          "base_uri": "https://localhost:8080/"
        },
        "id": "9A4lxgx8W2sy",
        "outputId": "4e5d5c39-bf59-44ec-9a47-bfc9cdd921f6"
      },
      "outputs": [
        {
          "output_type": "stream",
          "name": "stdout",
          "text": [
            "Using downloaded and verified file: /root/.medmnist/pathmnist.npz\n",
            "Using downloaded and verified file: /root/.medmnist/pathmnist.npz\n",
            "Using downloaded and verified file: /root/.medmnist/pathmnist.npz\n"
          ]
        }
      ],
      "source": [
        "_, _, test_loader = load_client_datasets(0)\n",
        "def evaluate_fn(\n",
        "        server_round: int, parameters: NDArrays, config: Dict[str,Scalar],\n",
        "    ) -> Tuple[float, Dict[str, Scalar]]:\n",
        "        model = modelnetV3\n",
        "        set_parameters(model, parameters)\n",
        "        test_loss, test_acc, _, _ = evaluate_model(model, test_loader)\n",
        "        print(f\"Global Test Accuracy (Round {server_round}): {test_acc:.2f}%\")\n",
        "        return test_loss, {\"test_acc\": test_acc }\n"
      ]
    },
    {
      "cell_type": "code",
      "source": [
        "# Create an instance of the model and get the parameters\n",
        "params = get_parameters(modelnetV3)"
      ],
      "metadata": {
        "id": "_tcCqqKTIpFt"
      },
      "execution_count": null,
      "outputs": []
    },
    {
      "cell_type": "markdown",
      "metadata": {
        "id": "PTGVw51mW2sz"
      },
      "source": [
        "### 6.4. Define the Flower ServertApp"
      ]
    },
    {
      "cell_type": "code",
      "execution_count": null,
      "metadata": {
        "id": "-xps3TfYW2sz"
      },
      "outputs": [],
      "source": [
        "def server_fn(context: Context) -> ServerAppComponents:\n",
        "    # Create the FedAvg strategy\n",
        "    strategy = FedAvg (\n",
        "        fraction_fit= 1.0,\n",
        "        min_available_clients=NUM_CLIENTS,\n",
        "        evaluate_fn= evaluate_fn,\n",
        "        initial_parameters=ndarrays_to_parameters(params),\n",
        "        evaluate_metrics_aggregation_fn=weighted_average,\n",
        "    )\n",
        "    # Configure the server for n rounds of training\n",
        "    config = ServerConfig(num_rounds=10)\n",
        "    return ServerAppComponents(strategy=strategy, config=config)\n",
        "\n",
        "\n",
        "# Create the ServerApp\n",
        "server_app = ServerApp(server_fn=server_fn)"
      ]
    },
    {
      "cell_type": "code",
      "execution_count": null,
      "metadata": {
        "id": "TlAZPF6MW2sz"
      },
      "outputs": [],
      "source": [
        "# Specify the resources each of your clients need\n",
        "# By default, each client will be allocated 1x CPU and 0x GPUs\n",
        "backend_config = {\"client_resources\": {\"num_cpus\": 2, \"num_gpus\": 1.0}}\n",
        "\n",
        "if device == \"cuda\":\n",
        "    backend_config = {\"client_resources\": {\"num_cpus\": 1, \"num_gpus\": 1.0}}\n"
      ]
    },
    {
      "cell_type": "markdown",
      "metadata": {
        "id": "-0qF2cJLW2s0"
      },
      "source": [
        "### 6.5. Run Flower SIMULATION"
      ]
    },
    {
      "cell_type": "code",
      "execution_count": null,
      "metadata": {
        "id": "6OreWZkYW2s0",
        "colab": {
          "base_uri": "https://localhost:8080/"
        },
        "outputId": "829d76dd-c391-4b9e-8d13-8734ff3251ce"
      },
      "outputs": [
        {
          "output_type": "stream",
          "name": "stderr",
          "text": [
            "\u001b[92mINFO \u001b[0m:      Starting Flower ServerApp, config: num_rounds=10, no round_timeout\n",
            "\u001b[92mINFO \u001b[0m:      \n",
            "\u001b[92mINFO \u001b[0m:      [INIT]\n",
            "\u001b[92mINFO \u001b[0m:      Using initial global parameters provided by strategy\n",
            "\u001b[92mINFO \u001b[0m:      Starting evaluation of initial global parameters\n",
            "\u001b[36m(pid=26553)\u001b[0m 2025-02-18 15:00:44.454719: E external/local_xla/xla/stream_executor/cuda/cuda_fft.cc:477] Unable to register cuFFT factory: Attempting to register factory for plugin cuFFT when one has already been registered\n",
            "\u001b[36m(pid=26553)\u001b[0m WARNING: All log messages before absl::InitializeLog() is called are written to STDERR\n",
            "\u001b[36m(pid=26553)\u001b[0m E0000 00:00:1739890844.491877   26553 cuda_dnn.cc:8310] Unable to register cuDNN factory: Attempting to register factory for plugin cuDNN when one has already been registered\n",
            "\u001b[36m(pid=26553)\u001b[0m E0000 00:00:1739890844.503494   26553 cuda_blas.cc:1418] Unable to register cuBLAS factory: Attempting to register factory for plugin cuBLAS when one has already been registered\n",
            "\u001b[92mINFO \u001b[0m:      initial parameters (loss, other metrics): 2.2418632359631294, {'test_acc': 5.52924791086351}\n",
            "\u001b[92mINFO \u001b[0m:      \n",
            "\u001b[92mINFO \u001b[0m:      [ROUND 1]\n",
            "\u001b[92mINFO \u001b[0m:      configure_fit: strategy sampled 10 clients (out of 10)\n"
          ]
        },
        {
          "output_type": "stream",
          "name": "stdout",
          "text": [
            "Global Test Accuracy (Round 0): 5.53%\n",
            "\u001b[36m(ClientAppActor pid=26553)\u001b[0m Using downloaded and verified file: /root/.medmnist/pathmnist.npz\n",
            "\u001b[36m(ClientAppActor pid=26553)\u001b[0m Using downloaded and verified file: /root/.medmnist/pathmnist.npz\n",
            "\u001b[36m(ClientAppActor pid=26553)\u001b[0m Using downloaded and verified file: /root/.medmnist/pathmnist.npz\n",
            "\u001b[36m(ClientAppActor pid=26553)\u001b[0m [Client 0] fit, config: {}\n",
            "\u001b[36m(ClientAppActor pid=26553)\u001b[0m [Client 0] get_parameters\n",
            "\u001b[36m(ClientAppActor pid=26553)\u001b[0m Using downloaded and verified file: /root/.medmnist/pathmnist.npz\n",
            "\u001b[36m(ClientAppActor pid=26553)\u001b[0m Using downloaded and verified file: /root/.medmnist/pathmnist.npz\n",
            "\u001b[36m(ClientAppActor pid=26553)\u001b[0m Using downloaded and verified file: /root/.medmnist/pathmnist.npz\n",
            "\u001b[36m(ClientAppActor pid=26553)\u001b[0m [Client 2] fit, config: {}\n",
            "\u001b[36m(ClientAppActor pid=26553)\u001b[0m [Client 2] get_parameters\n",
            "\u001b[36m(ClientAppActor pid=26553)\u001b[0m Using downloaded and verified file: /root/.medmnist/pathmnist.npz\n",
            "\u001b[36m(ClientAppActor pid=26553)\u001b[0m Using downloaded and verified file: /root/.medmnist/pathmnist.npz\n",
            "\u001b[36m(ClientAppActor pid=26553)\u001b[0m Using downloaded and verified file: /root/.medmnist/pathmnist.npz\n",
            "\u001b[36m(ClientAppActor pid=26553)\u001b[0m [Client 5] fit, config: {}\n",
            "\u001b[36m(ClientAppActor pid=26553)\u001b[0m [Client 5] get_parameters\n",
            "\u001b[36m(ClientAppActor pid=26553)\u001b[0m Using downloaded and verified file: /root/.medmnist/pathmnist.npz\n",
            "\u001b[36m(ClientAppActor pid=26553)\u001b[0m Using downloaded and verified file: /root/.medmnist/pathmnist.npz\n",
            "\u001b[36m(ClientAppActor pid=26553)\u001b[0m Using downloaded and verified file: /root/.medmnist/pathmnist.npz\n",
            "\u001b[36m(ClientAppActor pid=26553)\u001b[0m [Client 7] fit, config: {}\n",
            "\u001b[36m(ClientAppActor pid=26553)\u001b[0m [Client 7] get_parameters\n",
            "\u001b[36m(ClientAppActor pid=26553)\u001b[0m Using downloaded and verified file: /root/.medmnist/pathmnist.npz\n",
            "\u001b[36m(ClientAppActor pid=26553)\u001b[0m Using downloaded and verified file: /root/.medmnist/pathmnist.npz\n",
            "\u001b[36m(ClientAppActor pid=26553)\u001b[0m Using downloaded and verified file: /root/.medmnist/pathmnist.npz\n",
            "\u001b[36m(ClientAppActor pid=26553)\u001b[0m [Client 8] fit, config: {}\n",
            "\u001b[36m(ClientAppActor pid=26553)\u001b[0m [Client 8] get_parameters\n",
            "\u001b[36m(ClientAppActor pid=26553)\u001b[0m Using downloaded and verified file: /root/.medmnist/pathmnist.npz\n",
            "\u001b[36m(ClientAppActor pid=26553)\u001b[0m Using downloaded and verified file: /root/.medmnist/pathmnist.npz\n",
            "\u001b[36m(ClientAppActor pid=26553)\u001b[0m Using downloaded and verified file: /root/.medmnist/pathmnist.npz\n",
            "\u001b[36m(ClientAppActor pid=26553)\u001b[0m [Client 9] fit, config: {}\n",
            "\u001b[36m(ClientAppActor pid=26553)\u001b[0m [Client 9] get_parameters\n",
            "\u001b[36m(ClientAppActor pid=26553)\u001b[0m Using downloaded and verified file: /root/.medmnist/pathmnist.npz\n",
            "\u001b[36m(ClientAppActor pid=26553)\u001b[0m Using downloaded and verified file: /root/.medmnist/pathmnist.npz\n",
            "\u001b[36m(ClientAppActor pid=26553)\u001b[0m Using downloaded and verified file: /root/.medmnist/pathmnist.npz\n",
            "\u001b[36m(ClientAppActor pid=26553)\u001b[0m [Client 1] fit, config: {}\n",
            "\u001b[36m(ClientAppActor pid=26553)\u001b[0m [Client 1] get_parameters\n",
            "\u001b[36m(ClientAppActor pid=26553)\u001b[0m Using downloaded and verified file: /root/.medmnist/pathmnist.npz\n",
            "\u001b[36m(ClientAppActor pid=26553)\u001b[0m Using downloaded and verified file: /root/.medmnist/pathmnist.npz\n",
            "\u001b[36m(ClientAppActor pid=26553)\u001b[0m Using downloaded and verified file: /root/.medmnist/pathmnist.npz\n",
            "\u001b[36m(ClientAppActor pid=26553)\u001b[0m [Client 3] fit, config: {}\n",
            "\u001b[36m(ClientAppActor pid=26553)\u001b[0m [Client 3] get_parameters\n",
            "\u001b[36m(ClientAppActor pid=26553)\u001b[0m Using downloaded and verified file: /root/.medmnist/pathmnist.npz\n",
            "\u001b[36m(ClientAppActor pid=26553)\u001b[0m Using downloaded and verified file: /root/.medmnist/pathmnist.npz\n",
            "\u001b[36m(ClientAppActor pid=26553)\u001b[0m Using downloaded and verified file: /root/.medmnist/pathmnist.npz\n",
            "\u001b[36m(ClientAppActor pid=26553)\u001b[0m [Client 4] fit, config: {}\n",
            "\u001b[36m(ClientAppActor pid=26553)\u001b[0m [Client 4] get_parameters\n",
            "\u001b[36m(ClientAppActor pid=26553)\u001b[0m Using downloaded and verified file: /root/.medmnist/pathmnist.npz\n",
            "\u001b[36m(ClientAppActor pid=26553)\u001b[0m Using downloaded and verified file: /root/.medmnist/pathmnist.npz\n",
            "\u001b[36m(ClientAppActor pid=26553)\u001b[0m Using downloaded and verified file: /root/.medmnist/pathmnist.npz\n",
            "\u001b[36m(ClientAppActor pid=26553)\u001b[0m [Client 6] fit, config: {}\n"
          ]
        },
        {
          "output_type": "stream",
          "name": "stderr",
          "text": [
            "\u001b[92mINFO \u001b[0m:      aggregate_fit: received 10 results and 0 failures\n",
            "\u001b[93mWARNING \u001b[0m:   No fit_metrics_aggregation_fn provided\n"
          ]
        },
        {
          "output_type": "stream",
          "name": "stdout",
          "text": [
            "\u001b[36m(ClientAppActor pid=26553)\u001b[0m [Client 6] get_parameters\n"
          ]
        },
        {
          "output_type": "stream",
          "name": "stderr",
          "text": [
            "\u001b[92mINFO \u001b[0m:      fit progress: (1, 0.40018681377436205, {'test_acc': 86.54596100278552}, 214.85908473000018)\n",
            "\u001b[92mINFO \u001b[0m:      configure_evaluate: strategy sampled 10 clients (out of 10)\n"
          ]
        },
        {
          "output_type": "stream",
          "name": "stdout",
          "text": [
            "Global Test Accuracy (Round 1): 86.55%\n",
            "\u001b[36m(ClientAppActor pid=26553)\u001b[0m Using downloaded and verified file: /root/.medmnist/pathmnist.npz\n",
            "\u001b[36m(ClientAppActor pid=26553)\u001b[0m Using downloaded and verified file: /root/.medmnist/pathmnist.npz\n",
            "\u001b[36m(ClientAppActor pid=26553)\u001b[0m Using downloaded and verified file: /root/.medmnist/pathmnist.npz\n",
            "\u001b[36m(ClientAppActor pid=26553)\u001b[0m [Client 6] evaluate, config: {}\n",
            "\u001b[36m(ClientAppActor pid=26553)\u001b[0m Using downloaded and verified file: /root/.medmnist/pathmnist.npz\n",
            "\u001b[36m(ClientAppActor pid=26553)\u001b[0m Using downloaded and verified file: /root/.medmnist/pathmnist.npz\n",
            "\u001b[36m(ClientAppActor pid=26553)\u001b[0m Using downloaded and verified file: /root/.medmnist/pathmnist.npz\n",
            "\u001b[36m(ClientAppActor pid=26553)\u001b[0m [Client 8] evaluate, config: {}\n",
            "\u001b[36m(ClientAppActor pid=26553)\u001b[0m Using downloaded and verified file: /root/.medmnist/pathmnist.npz\n",
            "\u001b[36m(ClientAppActor pid=26553)\u001b[0m Using downloaded and verified file: /root/.medmnist/pathmnist.npz\n",
            "\u001b[36m(ClientAppActor pid=26553)\u001b[0m Using downloaded and verified file: /root/.medmnist/pathmnist.npz\n",
            "\u001b[36m(ClientAppActor pid=26553)\u001b[0m [Client 0] evaluate, config: {}\n",
            "\u001b[36m(ClientAppActor pid=26553)\u001b[0m Using downloaded and verified file: /root/.medmnist/pathmnist.npz\n",
            "\u001b[36m(ClientAppActor pid=26553)\u001b[0m Using downloaded and verified file: /root/.medmnist/pathmnist.npz\n",
            "\u001b[36m(ClientAppActor pid=26553)\u001b[0m Using downloaded and verified file: /root/.medmnist/pathmnist.npz\n",
            "\u001b[36m(ClientAppActor pid=26553)\u001b[0m [Client 1] evaluate, config: {}\n",
            "\u001b[36m(ClientAppActor pid=26553)\u001b[0m Using downloaded and verified file: /root/.medmnist/pathmnist.npz\n",
            "\u001b[36m(ClientAppActor pid=26553)\u001b[0m Using downloaded and verified file: /root/.medmnist/pathmnist.npz\n",
            "\u001b[36m(ClientAppActor pid=26553)\u001b[0m Using downloaded and verified file: /root/.medmnist/pathmnist.npz\n",
            "\u001b[36m(ClientAppActor pid=26553)\u001b[0m [Client 2] evaluate, config: {}\n",
            "\u001b[36m(ClientAppActor pid=26553)\u001b[0m Using downloaded and verified file: /root/.medmnist/pathmnist.npz\n",
            "\u001b[36m(ClientAppActor pid=26553)\u001b[0m Using downloaded and verified file: /root/.medmnist/pathmnist.npz\n",
            "\u001b[36m(ClientAppActor pid=26553)\u001b[0m Using downloaded and verified file: /root/.medmnist/pathmnist.npz\n",
            "\u001b[36m(ClientAppActor pid=26553)\u001b[0m [Client 4] evaluate, config: {}\n",
            "\u001b[36m(ClientAppActor pid=26553)\u001b[0m Using downloaded and verified file: /root/.medmnist/pathmnist.npz\n",
            "\u001b[36m(ClientAppActor pid=26553)\u001b[0m Using downloaded and verified file: /root/.medmnist/pathmnist.npz\n",
            "\u001b[36m(ClientAppActor pid=26553)\u001b[0m Using downloaded and verified file: /root/.medmnist/pathmnist.npz\n",
            "\u001b[36m(ClientAppActor pid=26553)\u001b[0m [Client 5] evaluate, config: {}\n",
            "\u001b[36m(ClientAppActor pid=26553)\u001b[0m Using downloaded and verified file: /root/.medmnist/pathmnist.npz\n",
            "\u001b[36m(ClientAppActor pid=26553)\u001b[0m Using downloaded and verified file: /root/.medmnist/pathmnist.npz\n",
            "\u001b[36m(ClientAppActor pid=26553)\u001b[0m Using downloaded and verified file: /root/.medmnist/pathmnist.npz\n",
            "\u001b[36m(ClientAppActor pid=26553)\u001b[0m [Client 9] evaluate, config: {}\n",
            "\u001b[36m(ClientAppActor pid=26553)\u001b[0m Using downloaded and verified file: /root/.medmnist/pathmnist.npz\n",
            "\u001b[36m(ClientAppActor pid=26553)\u001b[0m Using downloaded and verified file: /root/.medmnist/pathmnist.npz\n",
            "\u001b[36m(ClientAppActor pid=26553)\u001b[0m Using downloaded and verified file: /root/.medmnist/pathmnist.npz\n",
            "\u001b[36m(ClientAppActor pid=26553)\u001b[0m [Client 3] evaluate, config: {}\n",
            "\u001b[36m(ClientAppActor pid=26553)\u001b[0m Using downloaded and verified file: /root/.medmnist/pathmnist.npz\n",
            "\u001b[36m(ClientAppActor pid=26553)\u001b[0m Using downloaded and verified file: /root/.medmnist/pathmnist.npz\n",
            "\u001b[36m(ClientAppActor pid=26553)\u001b[0m Using downloaded and verified file: /root/.medmnist/pathmnist.npz\n",
            "\u001b[36m(ClientAppActor pid=26553)\u001b[0m [Client 7] evaluate, config: {}\n"
          ]
        },
        {
          "output_type": "stream",
          "name": "stderr",
          "text": [
            "\u001b[92mINFO \u001b[0m:      aggregate_evaluate: received 10 results and 0 failures\n",
            "\u001b[92mINFO \u001b[0m:      \n",
            "\u001b[92mINFO \u001b[0m:      [ROUND 2]\n",
            "\u001b[92mINFO \u001b[0m:      configure_fit: strategy sampled 10 clients (out of 10)\n"
          ]
        },
        {
          "output_type": "stream",
          "name": "stdout",
          "text": [
            "\u001b[36m(ClientAppActor pid=26553)\u001b[0m Using downloaded and verified file: /root/.medmnist/pathmnist.npz\n",
            "\u001b[36m(ClientAppActor pid=26553)\u001b[0m Using downloaded and verified file: /root/.medmnist/pathmnist.npz\n",
            "\u001b[36m(ClientAppActor pid=26553)\u001b[0m Using downloaded and verified file: /root/.medmnist/pathmnist.npz\n",
            "\u001b[36m(ClientAppActor pid=26553)\u001b[0m [Client 1] fit, config: {}\n",
            "\u001b[36m(ClientAppActor pid=26553)\u001b[0m [Client 1] get_parameters\n",
            "\u001b[36m(ClientAppActor pid=26553)\u001b[0m Using downloaded and verified file: /root/.medmnist/pathmnist.npz\n",
            "\u001b[36m(ClientAppActor pid=26553)\u001b[0m Using downloaded and verified file: /root/.medmnist/pathmnist.npz\n",
            "\u001b[36m(ClientAppActor pid=26553)\u001b[0m Using downloaded and verified file: /root/.medmnist/pathmnist.npz\n",
            "\u001b[36m(ClientAppActor pid=26553)\u001b[0m [Client 4] fit, config: {}\n",
            "\u001b[36m(ClientAppActor pid=26553)\u001b[0m [Client 4] get_parameters\n",
            "\u001b[36m(ClientAppActor pid=26553)\u001b[0m Using downloaded and verified file: /root/.medmnist/pathmnist.npz\n",
            "\u001b[36m(ClientAppActor pid=26553)\u001b[0m Using downloaded and verified file: /root/.medmnist/pathmnist.npz\n",
            "\u001b[36m(ClientAppActor pid=26553)\u001b[0m Using downloaded and verified file: /root/.medmnist/pathmnist.npz\n",
            "\u001b[36m(ClientAppActor pid=26553)\u001b[0m [Client 8] fit, config: {}\n",
            "\u001b[36m(ClientAppActor pid=26553)\u001b[0m [Client 8] get_parameters\n",
            "\u001b[36m(ClientAppActor pid=26553)\u001b[0m Using downloaded and verified file: /root/.medmnist/pathmnist.npz\n",
            "\u001b[36m(ClientAppActor pid=26553)\u001b[0m Using downloaded and verified file: /root/.medmnist/pathmnist.npz\n",
            "\u001b[36m(ClientAppActor pid=26553)\u001b[0m Using downloaded and verified file: /root/.medmnist/pathmnist.npz\n",
            "\u001b[36m(ClientAppActor pid=26553)\u001b[0m [Client 9] fit, config: {}\n",
            "\u001b[36m(ClientAppActor pid=26553)\u001b[0m [Client 9] get_parameters\n",
            "\u001b[36m(ClientAppActor pid=26553)\u001b[0m Using downloaded and verified file: /root/.medmnist/pathmnist.npz\n",
            "\u001b[36m(ClientAppActor pid=26553)\u001b[0m Using downloaded and verified file: /root/.medmnist/pathmnist.npz\n",
            "\u001b[36m(ClientAppActor pid=26553)\u001b[0m Using downloaded and verified file: /root/.medmnist/pathmnist.npz\n",
            "\u001b[36m(ClientAppActor pid=26553)\u001b[0m [Client 0] fit, config: {}\n",
            "\u001b[36m(ClientAppActor pid=26553)\u001b[0m [Client 0] get_parameters\n",
            "\u001b[36m(ClientAppActor pid=26553)\u001b[0m Using downloaded and verified file: /root/.medmnist/pathmnist.npz\n",
            "\u001b[36m(ClientAppActor pid=26553)\u001b[0m Using downloaded and verified file: /root/.medmnist/pathmnist.npz\n",
            "\u001b[36m(ClientAppActor pid=26553)\u001b[0m Using downloaded and verified file: /root/.medmnist/pathmnist.npz\n",
            "\u001b[36m(ClientAppActor pid=26553)\u001b[0m [Client 2] fit, config: {}\n",
            "\u001b[36m(ClientAppActor pid=26553)\u001b[0m [Client 2] get_parameters\n",
            "\u001b[36m(ClientAppActor pid=26553)\u001b[0m Using downloaded and verified file: /root/.medmnist/pathmnist.npz\n",
            "\u001b[36m(ClientAppActor pid=26553)\u001b[0m Using downloaded and verified file: /root/.medmnist/pathmnist.npz\n",
            "\u001b[36m(ClientAppActor pid=26553)\u001b[0m Using downloaded and verified file: /root/.medmnist/pathmnist.npz\n",
            "\u001b[36m(ClientAppActor pid=26553)\u001b[0m [Client 6] fit, config: {}\n",
            "\u001b[36m(ClientAppActor pid=26553)\u001b[0m [Client 6] get_parameters\n",
            "\u001b[36m(ClientAppActor pid=26553)\u001b[0m Using downloaded and verified file: /root/.medmnist/pathmnist.npz\n",
            "\u001b[36m(ClientAppActor pid=26553)\u001b[0m Using downloaded and verified file: /root/.medmnist/pathmnist.npz\n",
            "\u001b[36m(ClientAppActor pid=26553)\u001b[0m Using downloaded and verified file: /root/.medmnist/pathmnist.npz\n",
            "\u001b[36m(ClientAppActor pid=26553)\u001b[0m [Client 7] fit, config: {}\n",
            "\u001b[36m(ClientAppActor pid=26553)\u001b[0m [Client 7] get_parameters\n",
            "\u001b[36m(ClientAppActor pid=26553)\u001b[0m Using downloaded and verified file: /root/.medmnist/pathmnist.npz\n",
            "\u001b[36m(ClientAppActor pid=26553)\u001b[0m Using downloaded and verified file: /root/.medmnist/pathmnist.npz\n",
            "\u001b[36m(ClientAppActor pid=26553)\u001b[0m Using downloaded and verified file: /root/.medmnist/pathmnist.npz\n",
            "\u001b[36m(ClientAppActor pid=26553)\u001b[0m [Client 3] fit, config: {}\n",
            "\u001b[36m(ClientAppActor pid=26553)\u001b[0m [Client 3] get_parameters\n",
            "\u001b[36m(ClientAppActor pid=26553)\u001b[0m Using downloaded and verified file: /root/.medmnist/pathmnist.npz\n",
            "\u001b[36m(ClientAppActor pid=26553)\u001b[0m Using downloaded and verified file: /root/.medmnist/pathmnist.npz\n",
            "\u001b[36m(ClientAppActor pid=26553)\u001b[0m Using downloaded and verified file: /root/.medmnist/pathmnist.npz\n",
            "\u001b[36m(ClientAppActor pid=26553)\u001b[0m [Client 5] fit, config: {}\n"
          ]
        },
        {
          "output_type": "stream",
          "name": "stderr",
          "text": [
            "\u001b[92mINFO \u001b[0m:      aggregate_fit: received 10 results and 0 failures\n"
          ]
        },
        {
          "output_type": "stream",
          "name": "stdout",
          "text": [
            "\u001b[36m(ClientAppActor pid=26553)\u001b[0m [Client 5] get_parameters\n"
          ]
        },
        {
          "output_type": "stream",
          "name": "stderr",
          "text": [
            "\u001b[92mINFO \u001b[0m:      fit progress: (2, 0.2593838068763767, {'test_acc': 90.96100278551532}, 465.5475724449998)\n",
            "\u001b[92mINFO \u001b[0m:      configure_evaluate: strategy sampled 10 clients (out of 10)\n"
          ]
        },
        {
          "output_type": "stream",
          "name": "stdout",
          "text": [
            "Global Test Accuracy (Round 2): 90.96%\n",
            "\u001b[36m(ClientAppActor pid=26553)\u001b[0m Using downloaded and verified file: /root/.medmnist/pathmnist.npz\n",
            "\u001b[36m(ClientAppActor pid=26553)\u001b[0m Using downloaded and verified file: /root/.medmnist/pathmnist.npz\n",
            "\u001b[36m(ClientAppActor pid=26553)\u001b[0m Using downloaded and verified file: /root/.medmnist/pathmnist.npz\n",
            "\u001b[36m(ClientAppActor pid=26553)\u001b[0m [Client 0] evaluate, config: {}\n",
            "\u001b[36m(ClientAppActor pid=26553)\u001b[0m Using downloaded and verified file: /root/.medmnist/pathmnist.npz\n",
            "\u001b[36m(ClientAppActor pid=26553)\u001b[0m Using downloaded and verified file: /root/.medmnist/pathmnist.npz\n",
            "\u001b[36m(ClientAppActor pid=26553)\u001b[0m Using downloaded and verified file: /root/.medmnist/pathmnist.npz\n",
            "\u001b[36m(ClientAppActor pid=26553)\u001b[0m [Client 3] evaluate, config: {}\n",
            "\u001b[36m(ClientAppActor pid=26553)\u001b[0m Using downloaded and verified file: /root/.medmnist/pathmnist.npz\n",
            "\u001b[36m(ClientAppActor pid=26553)\u001b[0m Using downloaded and verified file: /root/.medmnist/pathmnist.npz\n",
            "\u001b[36m(ClientAppActor pid=26553)\u001b[0m Using downloaded and verified file: /root/.medmnist/pathmnist.npz\n",
            "\u001b[36m(ClientAppActor pid=26553)\u001b[0m [Client 4] evaluate, config: {}\n",
            "\u001b[36m(ClientAppActor pid=26553)\u001b[0m Using downloaded and verified file: /root/.medmnist/pathmnist.npz\n",
            "\u001b[36m(ClientAppActor pid=26553)\u001b[0m Using downloaded and verified file: /root/.medmnist/pathmnist.npz\n",
            "\u001b[36m(ClientAppActor pid=26553)\u001b[0m Using downloaded and verified file: /root/.medmnist/pathmnist.npz\n",
            "\u001b[36m(ClientAppActor pid=26553)\u001b[0m [Client 6] evaluate, config: {}\n",
            "\u001b[36m(ClientAppActor pid=26553)\u001b[0m Using downloaded and verified file: /root/.medmnist/pathmnist.npz\n",
            "\u001b[36m(ClientAppActor pid=26553)\u001b[0m Using downloaded and verified file: /root/.medmnist/pathmnist.npz\n",
            "\u001b[36m(ClientAppActor pid=26553)\u001b[0m Using downloaded and verified file: /root/.medmnist/pathmnist.npz\n",
            "\u001b[36m(ClientAppActor pid=26553)\u001b[0m [Client 8] evaluate, config: {}\n",
            "\u001b[36m(ClientAppActor pid=26553)\u001b[0m Using downloaded and verified file: /root/.medmnist/pathmnist.npz\n",
            "\u001b[36m(ClientAppActor pid=26553)\u001b[0m Using downloaded and verified file: /root/.medmnist/pathmnist.npz\n",
            "\u001b[36m(ClientAppActor pid=26553)\u001b[0m Using downloaded and verified file: /root/.medmnist/pathmnist.npz\n",
            "\u001b[36m(ClientAppActor pid=26553)\u001b[0m [Client 9] evaluate, config: {}\n",
            "\u001b[36m(ClientAppActor pid=26553)\u001b[0m Using downloaded and verified file: /root/.medmnist/pathmnist.npz\n",
            "\u001b[36m(ClientAppActor pid=26553)\u001b[0m Using downloaded and verified file: /root/.medmnist/pathmnist.npz\n",
            "\u001b[36m(ClientAppActor pid=26553)\u001b[0m Using downloaded and verified file: /root/.medmnist/pathmnist.npz\n",
            "\u001b[36m(ClientAppActor pid=26553)\u001b[0m [Client 1] evaluate, config: {}\n",
            "\u001b[36m(ClientAppActor pid=26553)\u001b[0m Using downloaded and verified file: /root/.medmnist/pathmnist.npz\n",
            "\u001b[36m(ClientAppActor pid=26553)\u001b[0m Using downloaded and verified file: /root/.medmnist/pathmnist.npz\n",
            "\u001b[36m(ClientAppActor pid=26553)\u001b[0m Using downloaded and verified file: /root/.medmnist/pathmnist.npz\n",
            "\u001b[36m(ClientAppActor pid=26553)\u001b[0m [Client 2] evaluate, config: {}\n",
            "\u001b[36m(ClientAppActor pid=26553)\u001b[0m Using downloaded and verified file: /root/.medmnist/pathmnist.npz\n",
            "\u001b[36m(ClientAppActor pid=26553)\u001b[0m Using downloaded and verified file: /root/.medmnist/pathmnist.npz\n",
            "\u001b[36m(ClientAppActor pid=26553)\u001b[0m Using downloaded and verified file: /root/.medmnist/pathmnist.npz\n",
            "\u001b[36m(ClientAppActor pid=26553)\u001b[0m [Client 5] evaluate, config: {}\n",
            "\u001b[36m(ClientAppActor pid=26553)\u001b[0m Using downloaded and verified file: /root/.medmnist/pathmnist.npz\n",
            "\u001b[36m(ClientAppActor pid=26553)\u001b[0m Using downloaded and verified file: /root/.medmnist/pathmnist.npz\n",
            "\u001b[36m(ClientAppActor pid=26553)\u001b[0m Using downloaded and verified file: /root/.medmnist/pathmnist.npz\n",
            "\u001b[36m(ClientAppActor pid=26553)\u001b[0m [Client 7] evaluate, config: {}\n"
          ]
        },
        {
          "output_type": "stream",
          "name": "stderr",
          "text": [
            "\u001b[92mINFO \u001b[0m:      aggregate_evaluate: received 10 results and 0 failures\n",
            "\u001b[92mINFO \u001b[0m:      \n",
            "\u001b[92mINFO \u001b[0m:      [ROUND 3]\n",
            "\u001b[92mINFO \u001b[0m:      configure_fit: strategy sampled 10 clients (out of 10)\n"
          ]
        },
        {
          "output_type": "stream",
          "name": "stdout",
          "text": [
            "\u001b[36m(ClientAppActor pid=26553)\u001b[0m Using downloaded and verified file: /root/.medmnist/pathmnist.npz\n",
            "\u001b[36m(ClientAppActor pid=26553)\u001b[0m Using downloaded and verified file: /root/.medmnist/pathmnist.npz\n",
            "\u001b[36m(ClientAppActor pid=26553)\u001b[0m Using downloaded and verified file: /root/.medmnist/pathmnist.npz\n",
            "\u001b[36m(ClientAppActor pid=26553)\u001b[0m [Client 1] fit, config: {}\n",
            "\u001b[36m(ClientAppActor pid=26553)\u001b[0m [Client 1] get_parameters\n",
            "\u001b[36m(ClientAppActor pid=26553)\u001b[0m Using downloaded and verified file: /root/.medmnist/pathmnist.npz\n",
            "\u001b[36m(ClientAppActor pid=26553)\u001b[0m Using downloaded and verified file: /root/.medmnist/pathmnist.npz\n",
            "\u001b[36m(ClientAppActor pid=26553)\u001b[0m Using downloaded and verified file: /root/.medmnist/pathmnist.npz\n",
            "\u001b[36m(ClientAppActor pid=26553)\u001b[0m [Client 2] fit, config: {}\n",
            "\u001b[36m(ClientAppActor pid=26553)\u001b[0m [Client 2] get_parameters\n",
            "\u001b[36m(ClientAppActor pid=26553)\u001b[0m Using downloaded and verified file: /root/.medmnist/pathmnist.npz\n",
            "\u001b[36m(ClientAppActor pid=26553)\u001b[0m Using downloaded and verified file: /root/.medmnist/pathmnist.npz\n",
            "\u001b[36m(ClientAppActor pid=26553)\u001b[0m Using downloaded and verified file: /root/.medmnist/pathmnist.npz\n",
            "\u001b[36m(ClientAppActor pid=26553)\u001b[0m [Client 4] fit, config: {}\n",
            "\u001b[36m(ClientAppActor pid=26553)\u001b[0m [Client 4] get_parameters\n",
            "\u001b[36m(ClientAppActor pid=26553)\u001b[0m Using downloaded and verified file: /root/.medmnist/pathmnist.npz\n",
            "\u001b[36m(ClientAppActor pid=26553)\u001b[0m Using downloaded and verified file: /root/.medmnist/pathmnist.npz\n",
            "\u001b[36m(ClientAppActor pid=26553)\u001b[0m Using downloaded and verified file: /root/.medmnist/pathmnist.npz\n",
            "\u001b[36m(ClientAppActor pid=26553)\u001b[0m [Client 9] fit, config: {}\n",
            "\u001b[36m(ClientAppActor pid=26553)\u001b[0m [Client 9] get_parameters\n",
            "\u001b[36m(ClientAppActor pid=26553)\u001b[0m Using downloaded and verified file: /root/.medmnist/pathmnist.npz\n",
            "\u001b[36m(ClientAppActor pid=26553)\u001b[0m Using downloaded and verified file: /root/.medmnist/pathmnist.npz\n",
            "\u001b[36m(ClientAppActor pid=26553)\u001b[0m Using downloaded and verified file: /root/.medmnist/pathmnist.npz\n",
            "\u001b[36m(ClientAppActor pid=26553)\u001b[0m [Client 0] fit, config: {}\n",
            "\u001b[36m(ClientAppActor pid=26553)\u001b[0m [Client 0] get_parameters\n",
            "\u001b[36m(ClientAppActor pid=26553)\u001b[0m Using downloaded and verified file: /root/.medmnist/pathmnist.npz\n",
            "\u001b[36m(ClientAppActor pid=26553)\u001b[0m Using downloaded and verified file: /root/.medmnist/pathmnist.npz\n",
            "\u001b[36m(ClientAppActor pid=26553)\u001b[0m Using downloaded and verified file: /root/.medmnist/pathmnist.npz\n",
            "\u001b[36m(ClientAppActor pid=26553)\u001b[0m [Client 3] fit, config: {}\n",
            "\u001b[36m(ClientAppActor pid=26553)\u001b[0m [Client 3] get_parameters\n",
            "\u001b[36m(ClientAppActor pid=26553)\u001b[0m Using downloaded and verified file: /root/.medmnist/pathmnist.npz\n",
            "\u001b[36m(ClientAppActor pid=26553)\u001b[0m Using downloaded and verified file: /root/.medmnist/pathmnist.npz\n",
            "\u001b[36m(ClientAppActor pid=26553)\u001b[0m Using downloaded and verified file: /root/.medmnist/pathmnist.npz\n",
            "\u001b[36m(ClientAppActor pid=26553)\u001b[0m [Client 7] fit, config: {}\n",
            "\u001b[36m(ClientAppActor pid=26553)\u001b[0m [Client 7] get_parameters\n",
            "\u001b[36m(ClientAppActor pid=26553)\u001b[0m Using downloaded and verified file: /root/.medmnist/pathmnist.npz\n",
            "\u001b[36m(ClientAppActor pid=26553)\u001b[0m Using downloaded and verified file: /root/.medmnist/pathmnist.npz\n",
            "\u001b[36m(ClientAppActor pid=26553)\u001b[0m Using downloaded and verified file: /root/.medmnist/pathmnist.npz\n",
            "\u001b[36m(ClientAppActor pid=26553)\u001b[0m [Client 5] fit, config: {}\n",
            "\u001b[36m(ClientAppActor pid=26553)\u001b[0m [Client 5] get_parameters\n",
            "\u001b[36m(ClientAppActor pid=26553)\u001b[0m Using downloaded and verified file: /root/.medmnist/pathmnist.npz\n",
            "\u001b[36m(ClientAppActor pid=26553)\u001b[0m Using downloaded and verified file: /root/.medmnist/pathmnist.npz\n",
            "\u001b[36m(ClientAppActor pid=26553)\u001b[0m Using downloaded and verified file: /root/.medmnist/pathmnist.npz\n",
            "\u001b[36m(ClientAppActor pid=26553)\u001b[0m [Client 6] fit, config: {}\n",
            "\u001b[36m(ClientAppActor pid=26553)\u001b[0m [Client 6] get_parameters\n",
            "\u001b[36m(ClientAppActor pid=26553)\u001b[0m Using downloaded and verified file: /root/.medmnist/pathmnist.npz\n",
            "\u001b[36m(ClientAppActor pid=26553)\u001b[0m Using downloaded and verified file: /root/.medmnist/pathmnist.npz\n",
            "\u001b[36m(ClientAppActor pid=26553)\u001b[0m Using downloaded and verified file: /root/.medmnist/pathmnist.npz\n",
            "\u001b[36m(ClientAppActor pid=26553)\u001b[0m [Client 8] fit, config: {}\n"
          ]
        },
        {
          "output_type": "stream",
          "name": "stderr",
          "text": [
            "\u001b[92mINFO \u001b[0m:      aggregate_fit: received 10 results and 0 failures\n"
          ]
        },
        {
          "output_type": "stream",
          "name": "stdout",
          "text": [
            "\u001b[36m(ClientAppActor pid=26553)\u001b[0m [Client 8] get_parameters\n"
          ]
        },
        {
          "output_type": "stream",
          "name": "stderr",
          "text": [
            "\u001b[92mINFO \u001b[0m:      fit progress: (3, 0.18495029870387727, {'test_acc': 93.87186629526462}, 716.6662016509999)\n",
            "\u001b[92mINFO \u001b[0m:      configure_evaluate: strategy sampled 10 clients (out of 10)\n"
          ]
        },
        {
          "output_type": "stream",
          "name": "stdout",
          "text": [
            "Global Test Accuracy (Round 3): 93.87%\n",
            "\u001b[36m(ClientAppActor pid=26553)\u001b[0m Using downloaded and verified file: /root/.medmnist/pathmnist.npz\n",
            "\u001b[36m(ClientAppActor pid=26553)\u001b[0m Using downloaded and verified file: /root/.medmnist/pathmnist.npz\n",
            "\u001b[36m(ClientAppActor pid=26553)\u001b[0m Using downloaded and verified file: /root/.medmnist/pathmnist.npz\n",
            "\u001b[36m(ClientAppActor pid=26553)\u001b[0m [Client 1] evaluate, config: {}\n",
            "\u001b[36m(ClientAppActor pid=26553)\u001b[0m Using downloaded and verified file: /root/.medmnist/pathmnist.npz\n",
            "\u001b[36m(ClientAppActor pid=26553)\u001b[0m Using downloaded and verified file: /root/.medmnist/pathmnist.npz\n",
            "\u001b[36m(ClientAppActor pid=26553)\u001b[0m Using downloaded and verified file: /root/.medmnist/pathmnist.npz\n",
            "\u001b[36m(ClientAppActor pid=26553)\u001b[0m [Client 9] evaluate, config: {}\n",
            "\u001b[36m(ClientAppActor pid=26553)\u001b[0m Using downloaded and verified file: /root/.medmnist/pathmnist.npz\n",
            "\u001b[36m(ClientAppActor pid=26553)\u001b[0m Using downloaded and verified file: /root/.medmnist/pathmnist.npz\n",
            "\u001b[36m(ClientAppActor pid=26553)\u001b[0m Using downloaded and verified file: /root/.medmnist/pathmnist.npz\n",
            "\u001b[36m(ClientAppActor pid=26553)\u001b[0m [Client 0] evaluate, config: {}\n",
            "\u001b[36m(ClientAppActor pid=26553)\u001b[0m Using downloaded and verified file: /root/.medmnist/pathmnist.npz\n",
            "\u001b[36m(ClientAppActor pid=26553)\u001b[0m Using downloaded and verified file: /root/.medmnist/pathmnist.npz\n",
            "\u001b[36m(ClientAppActor pid=26553)\u001b[0m Using downloaded and verified file: /root/.medmnist/pathmnist.npz\n",
            "\u001b[36m(ClientAppActor pid=26553)\u001b[0m [Client 3] evaluate, config: {}\n",
            "\u001b[36m(ClientAppActor pid=26553)\u001b[0m Using downloaded and verified file: /root/.medmnist/pathmnist.npz\n",
            "\u001b[36m(ClientAppActor pid=26553)\u001b[0m Using downloaded and verified file: /root/.medmnist/pathmnist.npz\n",
            "\u001b[36m(ClientAppActor pid=26553)\u001b[0m Using downloaded and verified file: /root/.medmnist/pathmnist.npz\n",
            "\u001b[36m(ClientAppActor pid=26553)\u001b[0m [Client 5] evaluate, config: {}\n",
            "\u001b[36m(ClientAppActor pid=26553)\u001b[0m Using downloaded and verified file: /root/.medmnist/pathmnist.npz\n",
            "\u001b[36m(ClientAppActor pid=26553)\u001b[0m Using downloaded and verified file: /root/.medmnist/pathmnist.npz\n",
            "\u001b[36m(ClientAppActor pid=26553)\u001b[0m Using downloaded and verified file: /root/.medmnist/pathmnist.npz\n",
            "\u001b[36m(ClientAppActor pid=26553)\u001b[0m [Client 7] evaluate, config: {}\n",
            "\u001b[36m(ClientAppActor pid=26553)\u001b[0m Using downloaded and verified file: /root/.medmnist/pathmnist.npz\n",
            "\u001b[36m(ClientAppActor pid=26553)\u001b[0m Using downloaded and verified file: /root/.medmnist/pathmnist.npz\n",
            "\u001b[36m(ClientAppActor pid=26553)\u001b[0m Using downloaded and verified file: /root/.medmnist/pathmnist.npz\n",
            "\u001b[36m(ClientAppActor pid=26553)\u001b[0m [Client 2] evaluate, config: {}\n",
            "\u001b[36m(ClientAppActor pid=26553)\u001b[0m Using downloaded and verified file: /root/.medmnist/pathmnist.npz\n",
            "\u001b[36m(ClientAppActor pid=26553)\u001b[0m Using downloaded and verified file: /root/.medmnist/pathmnist.npz\n",
            "\u001b[36m(ClientAppActor pid=26553)\u001b[0m Using downloaded and verified file: /root/.medmnist/pathmnist.npz\n",
            "\u001b[36m(ClientAppActor pid=26553)\u001b[0m [Client 4] evaluate, config: {}\n",
            "\u001b[36m(ClientAppActor pid=26553)\u001b[0m Using downloaded and verified file: /root/.medmnist/pathmnist.npz\n",
            "\u001b[36m(ClientAppActor pid=26553)\u001b[0m Using downloaded and verified file: /root/.medmnist/pathmnist.npz\n",
            "\u001b[36m(ClientAppActor pid=26553)\u001b[0m Using downloaded and verified file: /root/.medmnist/pathmnist.npz\n",
            "\u001b[36m(ClientAppActor pid=26553)\u001b[0m [Client 6] evaluate, config: {}\n",
            "\u001b[36m(ClientAppActor pid=26553)\u001b[0m Using downloaded and verified file: /root/.medmnist/pathmnist.npz\n",
            "\u001b[36m(ClientAppActor pid=26553)\u001b[0m Using downloaded and verified file: /root/.medmnist/pathmnist.npz\n",
            "\u001b[36m(ClientAppActor pid=26553)\u001b[0m Using downloaded and verified file: /root/.medmnist/pathmnist.npz\n",
            "\u001b[36m(ClientAppActor pid=26553)\u001b[0m [Client 8] evaluate, config: {}\n"
          ]
        },
        {
          "output_type": "stream",
          "name": "stderr",
          "text": [
            "\u001b[92mINFO \u001b[0m:      aggregate_evaluate: received 10 results and 0 failures\n",
            "\u001b[92mINFO \u001b[0m:      \n",
            "\u001b[92mINFO \u001b[0m:      [ROUND 4]\n",
            "\u001b[92mINFO \u001b[0m:      configure_fit: strategy sampled 10 clients (out of 10)\n"
          ]
        },
        {
          "output_type": "stream",
          "name": "stdout",
          "text": [
            "\u001b[36m(ClientAppActor pid=26553)\u001b[0m Using downloaded and verified file: /root/.medmnist/pathmnist.npz\n",
            "\u001b[36m(ClientAppActor pid=26553)\u001b[0m Using downloaded and verified file: /root/.medmnist/pathmnist.npz\n",
            "\u001b[36m(ClientAppActor pid=26553)\u001b[0m Using downloaded and verified file: /root/.medmnist/pathmnist.npz\n",
            "\u001b[36m(ClientAppActor pid=26553)\u001b[0m [Client 0] fit, config: {}\n",
            "\u001b[36m(ClientAppActor pid=26553)\u001b[0m [Client 0] get_parameters\n",
            "\u001b[36m(ClientAppActor pid=26553)\u001b[0m Using downloaded and verified file: /root/.medmnist/pathmnist.npz\n",
            "\u001b[36m(ClientAppActor pid=26553)\u001b[0m Using downloaded and verified file: /root/.medmnist/pathmnist.npz\n",
            "\u001b[36m(ClientAppActor pid=26553)\u001b[0m Using downloaded and verified file: /root/.medmnist/pathmnist.npz\n",
            "\u001b[36m(ClientAppActor pid=26553)\u001b[0m [Client 1] fit, config: {}\n",
            "\u001b[36m(ClientAppActor pid=26553)\u001b[0m [Client 1] get_parameters\n",
            "\u001b[36m(ClientAppActor pid=26553)\u001b[0m Using downloaded and verified file: /root/.medmnist/pathmnist.npz\n",
            "\u001b[36m(ClientAppActor pid=26553)\u001b[0m Using downloaded and verified file: /root/.medmnist/pathmnist.npz\n",
            "\u001b[36m(ClientAppActor pid=26553)\u001b[0m Using downloaded and verified file: /root/.medmnist/pathmnist.npz\n",
            "\u001b[36m(ClientAppActor pid=26553)\u001b[0m [Client 5] fit, config: {}\n",
            "\u001b[36m(ClientAppActor pid=26553)\u001b[0m [Client 5] get_parameters\n",
            "\u001b[36m(ClientAppActor pid=26553)\u001b[0m Using downloaded and verified file: /root/.medmnist/pathmnist.npz\n",
            "\u001b[36m(ClientAppActor pid=26553)\u001b[0m Using downloaded and verified file: /root/.medmnist/pathmnist.npz\n",
            "\u001b[36m(ClientAppActor pid=26553)\u001b[0m Using downloaded and verified file: /root/.medmnist/pathmnist.npz\n",
            "\u001b[36m(ClientAppActor pid=26553)\u001b[0m [Client 7] fit, config: {}\n",
            "\u001b[36m(ClientAppActor pid=26553)\u001b[0m [Client 7] get_parameters\n",
            "\u001b[36m(ClientAppActor pid=26553)\u001b[0m Using downloaded and verified file: /root/.medmnist/pathmnist.npz\n",
            "\u001b[36m(ClientAppActor pid=26553)\u001b[0m Using downloaded and verified file: /root/.medmnist/pathmnist.npz\n",
            "\u001b[36m(ClientAppActor pid=26553)\u001b[0m Using downloaded and verified file: /root/.medmnist/pathmnist.npz\n",
            "\u001b[36m(ClientAppActor pid=26553)\u001b[0m [Client 2] fit, config: {}\n",
            "\u001b[36m(ClientAppActor pid=26553)\u001b[0m [Client 2] get_parameters\n",
            "\u001b[36m(ClientAppActor pid=26553)\u001b[0m Using downloaded and verified file: /root/.medmnist/pathmnist.npz\n",
            "\u001b[36m(ClientAppActor pid=26553)\u001b[0m Using downloaded and verified file: /root/.medmnist/pathmnist.npz\n",
            "\u001b[36m(ClientAppActor pid=26553)\u001b[0m Using downloaded and verified file: /root/.medmnist/pathmnist.npz\n",
            "\u001b[36m(ClientAppActor pid=26553)\u001b[0m [Client 6] fit, config: {}\n",
            "\u001b[36m(ClientAppActor pid=26553)\u001b[0m [Client 6] get_parameters\n",
            "\u001b[36m(ClientAppActor pid=26553)\u001b[0m Using downloaded and verified file: /root/.medmnist/pathmnist.npz\n",
            "\u001b[36m(ClientAppActor pid=26553)\u001b[0m Using downloaded and verified file: /root/.medmnist/pathmnist.npz\n",
            "\u001b[36m(ClientAppActor pid=26553)\u001b[0m Using downloaded and verified file: /root/.medmnist/pathmnist.npz\n",
            "\u001b[36m(ClientAppActor pid=26553)\u001b[0m [Client 8] fit, config: {}\n",
            "\u001b[36m(ClientAppActor pid=26553)\u001b[0m [Client 8] get_parameters\n",
            "\u001b[36m(ClientAppActor pid=26553)\u001b[0m Using downloaded and verified file: /root/.medmnist/pathmnist.npz\n",
            "\u001b[36m(ClientAppActor pid=26553)\u001b[0m Using downloaded and verified file: /root/.medmnist/pathmnist.npz\n",
            "\u001b[36m(ClientAppActor pid=26553)\u001b[0m Using downloaded and verified file: /root/.medmnist/pathmnist.npz\n",
            "\u001b[36m(ClientAppActor pid=26553)\u001b[0m [Client 9] fit, config: {}\n",
            "\u001b[36m(ClientAppActor pid=26553)\u001b[0m [Client 9] get_parameters\n",
            "\u001b[36m(ClientAppActor pid=26553)\u001b[0m Using downloaded and verified file: /root/.medmnist/pathmnist.npz\n",
            "\u001b[36m(ClientAppActor pid=26553)\u001b[0m Using downloaded and verified file: /root/.medmnist/pathmnist.npz\n",
            "\u001b[36m(ClientAppActor pid=26553)\u001b[0m Using downloaded and verified file: /root/.medmnist/pathmnist.npz\n",
            "\u001b[36m(ClientAppActor pid=26553)\u001b[0m [Client 3] fit, config: {}\n",
            "\u001b[36m(ClientAppActor pid=26553)\u001b[0m [Client 3] get_parameters\n",
            "\u001b[36m(ClientAppActor pid=26553)\u001b[0m Using downloaded and verified file: /root/.medmnist/pathmnist.npz\n",
            "\u001b[36m(ClientAppActor pid=26553)\u001b[0m Using downloaded and verified file: /root/.medmnist/pathmnist.npz\n",
            "\u001b[36m(ClientAppActor pid=26553)\u001b[0m Using downloaded and verified file: /root/.medmnist/pathmnist.npz\n",
            "\u001b[36m(ClientAppActor pid=26553)\u001b[0m [Client 4] fit, config: {}\n"
          ]
        },
        {
          "output_type": "stream",
          "name": "stderr",
          "text": [
            "\u001b[92mINFO \u001b[0m:      aggregate_fit: received 10 results and 0 failures\n"
          ]
        },
        {
          "output_type": "stream",
          "name": "stdout",
          "text": [
            "\u001b[36m(ClientAppActor pid=26553)\u001b[0m [Client 4] get_parameters\n"
          ]
        },
        {
          "output_type": "stream",
          "name": "stderr",
          "text": [
            "\u001b[92mINFO \u001b[0m:      fit progress: (4, 0.16632407883890962, {'test_acc': 94.13649025069638}, 966.2582902450004)\n",
            "\u001b[92mINFO \u001b[0m:      configure_evaluate: strategy sampled 10 clients (out of 10)\n"
          ]
        },
        {
          "output_type": "stream",
          "name": "stdout",
          "text": [
            "Global Test Accuracy (Round 4): 94.14%\n",
            "\u001b[36m(ClientAppActor pid=26553)\u001b[0m Using downloaded and verified file: /root/.medmnist/pathmnist.npz\n",
            "\u001b[36m(ClientAppActor pid=26553)\u001b[0m Using downloaded and verified file: /root/.medmnist/pathmnist.npz\n",
            "\u001b[36m(ClientAppActor pid=26553)\u001b[0m Using downloaded and verified file: /root/.medmnist/pathmnist.npz\n",
            "\u001b[36m(ClientAppActor pid=26553)\u001b[0m [Client 1] evaluate, config: {}\n",
            "\u001b[36m(ClientAppActor pid=26553)\u001b[0m Using downloaded and verified file: /root/.medmnist/pathmnist.npz\n",
            "\u001b[36m(ClientAppActor pid=26553)\u001b[0m Using downloaded and verified file: /root/.medmnist/pathmnist.npz\n",
            "\u001b[36m(ClientAppActor pid=26553)\u001b[0m Using downloaded and verified file: /root/.medmnist/pathmnist.npz\n",
            "\u001b[36m(ClientAppActor pid=26553)\u001b[0m [Client 2] evaluate, config: {}\n",
            "\u001b[36m(ClientAppActor pid=26553)\u001b[0m Using downloaded and verified file: /root/.medmnist/pathmnist.npz\n",
            "\u001b[36m(ClientAppActor pid=26553)\u001b[0m Using downloaded and verified file: /root/.medmnist/pathmnist.npz\n",
            "\u001b[36m(ClientAppActor pid=26553)\u001b[0m Using downloaded and verified file: /root/.medmnist/pathmnist.npz\n",
            "\u001b[36m(ClientAppActor pid=26553)\u001b[0m [Client 4] evaluate, config: {}\n",
            "\u001b[36m(ClientAppActor pid=26553)\u001b[0m Using downloaded and verified file: /root/.medmnist/pathmnist.npz\n",
            "\u001b[36m(ClientAppActor pid=26553)\u001b[0m Using downloaded and verified file: /root/.medmnist/pathmnist.npz\n",
            "\u001b[36m(ClientAppActor pid=26553)\u001b[0m Using downloaded and verified file: /root/.medmnist/pathmnist.npz\n",
            "\u001b[36m(ClientAppActor pid=26553)\u001b[0m [Client 6] evaluate, config: {}\n",
            "\u001b[36m(ClientAppActor pid=26553)\u001b[0m Using downloaded and verified file: /root/.medmnist/pathmnist.npz\n",
            "\u001b[36m(ClientAppActor pid=26553)\u001b[0m Using downloaded and verified file: /root/.medmnist/pathmnist.npz\n",
            "\u001b[36m(ClientAppActor pid=26553)\u001b[0m Using downloaded and verified file: /root/.medmnist/pathmnist.npz\n",
            "\u001b[36m(ClientAppActor pid=26553)\u001b[0m [Client 7] evaluate, config: {}\n",
            "\u001b[36m(ClientAppActor pid=26553)\u001b[0m Using downloaded and verified file: /root/.medmnist/pathmnist.npz\n",
            "\u001b[36m(ClientAppActor pid=26553)\u001b[0m Using downloaded and verified file: /root/.medmnist/pathmnist.npz\n",
            "\u001b[36m(ClientAppActor pid=26553)\u001b[0m Using downloaded and verified file: /root/.medmnist/pathmnist.npz\n",
            "\u001b[36m(ClientAppActor pid=26553)\u001b[0m [Client 3] evaluate, config: {}\n",
            "\u001b[36m(ClientAppActor pid=26553)\u001b[0m Using downloaded and verified file: /root/.medmnist/pathmnist.npz\n",
            "\u001b[36m(ClientAppActor pid=26553)\u001b[0m Using downloaded and verified file: /root/.medmnist/pathmnist.npz\n",
            "\u001b[36m(ClientAppActor pid=26553)\u001b[0m Using downloaded and verified file: /root/.medmnist/pathmnist.npz\n",
            "\u001b[36m(ClientAppActor pid=26553)\u001b[0m [Client 5] evaluate, config: {}\n",
            "\u001b[36m(ClientAppActor pid=26553)\u001b[0m Using downloaded and verified file: /root/.medmnist/pathmnist.npz\n",
            "\u001b[36m(ClientAppActor pid=26553)\u001b[0m Using downloaded and verified file: /root/.medmnist/pathmnist.npz\n",
            "\u001b[36m(ClientAppActor pid=26553)\u001b[0m Using downloaded and verified file: /root/.medmnist/pathmnist.npz\n",
            "\u001b[36m(ClientAppActor pid=26553)\u001b[0m [Client 9] evaluate, config: {}\n",
            "\u001b[36m(ClientAppActor pid=26553)\u001b[0m Using downloaded and verified file: /root/.medmnist/pathmnist.npz\n",
            "\u001b[36m(ClientAppActor pid=26553)\u001b[0m Using downloaded and verified file: /root/.medmnist/pathmnist.npz\n",
            "\u001b[36m(ClientAppActor pid=26553)\u001b[0m Using downloaded and verified file: /root/.medmnist/pathmnist.npz\n",
            "\u001b[36m(ClientAppActor pid=26553)\u001b[0m [Client 0] evaluate, config: {}\n",
            "\u001b[36m(ClientAppActor pid=26553)\u001b[0m Using downloaded and verified file: /root/.medmnist/pathmnist.npz\n",
            "\u001b[36m(ClientAppActor pid=26553)\u001b[0m Using downloaded and verified file: /root/.medmnist/pathmnist.npz\n",
            "\u001b[36m(ClientAppActor pid=26553)\u001b[0m Using downloaded and verified file: /root/.medmnist/pathmnist.npz\n",
            "\u001b[36m(ClientAppActor pid=26553)\u001b[0m [Client 8] evaluate, config: {}\n"
          ]
        },
        {
          "output_type": "stream",
          "name": "stderr",
          "text": [
            "\u001b[92mINFO \u001b[0m:      aggregate_evaluate: received 10 results and 0 failures\n",
            "\u001b[92mINFO \u001b[0m:      \n",
            "\u001b[92mINFO \u001b[0m:      [ROUND 5]\n",
            "\u001b[92mINFO \u001b[0m:      configure_fit: strategy sampled 10 clients (out of 10)\n"
          ]
        },
        {
          "output_type": "stream",
          "name": "stdout",
          "text": [
            "\u001b[36m(ClientAppActor pid=26553)\u001b[0m Using downloaded and verified file: /root/.medmnist/pathmnist.npz\n",
            "\u001b[36m(ClientAppActor pid=26553)\u001b[0m Using downloaded and verified file: /root/.medmnist/pathmnist.npz\n",
            "\u001b[36m(ClientAppActor pid=26553)\u001b[0m Using downloaded and verified file: /root/.medmnist/pathmnist.npz\n",
            "\u001b[36m(ClientAppActor pid=26553)\u001b[0m [Client 0] fit, config: {}\n",
            "\u001b[36m(ClientAppActor pid=26553)\u001b[0m [Client 0] get_parameters\n",
            "\u001b[36m(ClientAppActor pid=26553)\u001b[0m Using downloaded and verified file: /root/.medmnist/pathmnist.npz\n",
            "\u001b[36m(ClientAppActor pid=26553)\u001b[0m Using downloaded and verified file: /root/.medmnist/pathmnist.npz\n",
            "\u001b[36m(ClientAppActor pid=26553)\u001b[0m Using downloaded and verified file: /root/.medmnist/pathmnist.npz\n",
            "\u001b[36m(ClientAppActor pid=26553)\u001b[0m [Client 1] fit, config: {}\n",
            "\u001b[36m(ClientAppActor pid=26553)\u001b[0m [Client 1] get_parameters\n",
            "\u001b[36m(ClientAppActor pid=26553)\u001b[0m Using downloaded and verified file: /root/.medmnist/pathmnist.npz\n",
            "\u001b[36m(ClientAppActor pid=26553)\u001b[0m Using downloaded and verified file: /root/.medmnist/pathmnist.npz\n",
            "\u001b[36m(ClientAppActor pid=26553)\u001b[0m Using downloaded and verified file: /root/.medmnist/pathmnist.npz\n",
            "\u001b[36m(ClientAppActor pid=26553)\u001b[0m [Client 6] fit, config: {}\n",
            "\u001b[36m(ClientAppActor pid=26553)\u001b[0m [Client 6] get_parameters\n",
            "\u001b[36m(ClientAppActor pid=26553)\u001b[0m Using downloaded and verified file: /root/.medmnist/pathmnist.npz\n",
            "\u001b[36m(ClientAppActor pid=26553)\u001b[0m Using downloaded and verified file: /root/.medmnist/pathmnist.npz\n",
            "\u001b[36m(ClientAppActor pid=26553)\u001b[0m Using downloaded and verified file: /root/.medmnist/pathmnist.npz\n",
            "\u001b[36m(ClientAppActor pid=26553)\u001b[0m [Client 2] fit, config: {}\n",
            "\u001b[36m(ClientAppActor pid=26553)\u001b[0m [Client 2] get_parameters\n",
            "\u001b[36m(ClientAppActor pid=26553)\u001b[0m Using downloaded and verified file: /root/.medmnist/pathmnist.npz\n",
            "\u001b[36m(ClientAppActor pid=26553)\u001b[0m Using downloaded and verified file: /root/.medmnist/pathmnist.npz\n",
            "\u001b[36m(ClientAppActor pid=26553)\u001b[0m Using downloaded and verified file: /root/.medmnist/pathmnist.npz\n",
            "\u001b[36m(ClientAppActor pid=26553)\u001b[0m [Client 4] fit, config: {}\n",
            "\u001b[36m(ClientAppActor pid=26553)\u001b[0m [Client 4] get_parameters\n",
            "\u001b[36m(ClientAppActor pid=26553)\u001b[0m Using downloaded and verified file: /root/.medmnist/pathmnist.npz\n",
            "\u001b[36m(ClientAppActor pid=26553)\u001b[0m Using downloaded and verified file: /root/.medmnist/pathmnist.npz\n",
            "\u001b[36m(ClientAppActor pid=26553)\u001b[0m Using downloaded and verified file: /root/.medmnist/pathmnist.npz\n",
            "\u001b[36m(ClientAppActor pid=26553)\u001b[0m [Client 8] fit, config: {}\n",
            "\u001b[36m(ClientAppActor pid=26553)\u001b[0m [Client 8] get_parameters\n",
            "\u001b[36m(ClientAppActor pid=26553)\u001b[0m Using downloaded and verified file: /root/.medmnist/pathmnist.npz\n",
            "\u001b[36m(ClientAppActor pid=26553)\u001b[0m Using downloaded and verified file: /root/.medmnist/pathmnist.npz\n",
            "\u001b[36m(ClientAppActor pid=26553)\u001b[0m Using downloaded and verified file: /root/.medmnist/pathmnist.npz\n",
            "\u001b[36m(ClientAppActor pid=26553)\u001b[0m [Client 9] fit, config: {}\n",
            "\u001b[36m(ClientAppActor pid=26553)\u001b[0m [Client 9] get_parameters\n",
            "\u001b[36m(ClientAppActor pid=26553)\u001b[0m Using downloaded and verified file: /root/.medmnist/pathmnist.npz\n",
            "\u001b[36m(ClientAppActor pid=26553)\u001b[0m Using downloaded and verified file: /root/.medmnist/pathmnist.npz\n",
            "\u001b[36m(ClientAppActor pid=26553)\u001b[0m Using downloaded and verified file: /root/.medmnist/pathmnist.npz\n",
            "\u001b[36m(ClientAppActor pid=26553)\u001b[0m [Client 3] fit, config: {}\n",
            "\u001b[36m(ClientAppActor pid=26553)\u001b[0m [Client 3] get_parameters\n",
            "\u001b[36m(ClientAppActor pid=26553)\u001b[0m Using downloaded and verified file: /root/.medmnist/pathmnist.npz\n",
            "\u001b[36m(ClientAppActor pid=26553)\u001b[0m Using downloaded and verified file: /root/.medmnist/pathmnist.npz\n",
            "\u001b[36m(ClientAppActor pid=26553)\u001b[0m Using downloaded and verified file: /root/.medmnist/pathmnist.npz\n",
            "\u001b[36m(ClientAppActor pid=26553)\u001b[0m [Client 5] fit, config: {}\n",
            "\u001b[36m(ClientAppActor pid=26553)\u001b[0m [Client 5] get_parameters\n",
            "\u001b[36m(ClientAppActor pid=26553)\u001b[0m Using downloaded and verified file: /root/.medmnist/pathmnist.npz\n",
            "\u001b[36m(ClientAppActor pid=26553)\u001b[0m Using downloaded and verified file: /root/.medmnist/pathmnist.npz\n",
            "\u001b[36m(ClientAppActor pid=26553)\u001b[0m Using downloaded and verified file: /root/.medmnist/pathmnist.npz\n",
            "\u001b[36m(ClientAppActor pid=26553)\u001b[0m [Client 7] fit, config: {}\n"
          ]
        },
        {
          "output_type": "stream",
          "name": "stderr",
          "text": [
            "\u001b[92mINFO \u001b[0m:      aggregate_fit: received 10 results and 0 failures\n"
          ]
        },
        {
          "output_type": "stream",
          "name": "stdout",
          "text": [
            "\u001b[36m(ClientAppActor pid=26553)\u001b[0m [Client 7] get_parameters\n"
          ]
        },
        {
          "output_type": "stream",
          "name": "stderr",
          "text": [
            "\u001b[92mINFO \u001b[0m:      fit progress: (5, 0.1767552546431533, {'test_acc': 93.50974930362116}, 1216.7338322289997)\n",
            "\u001b[92mINFO \u001b[0m:      configure_evaluate: strategy sampled 10 clients (out of 10)\n"
          ]
        },
        {
          "output_type": "stream",
          "name": "stdout",
          "text": [
            "Global Test Accuracy (Round 5): 93.51%\n",
            "\u001b[36m(ClientAppActor pid=26553)\u001b[0m Using downloaded and verified file: /root/.medmnist/pathmnist.npz\n",
            "\u001b[36m(ClientAppActor pid=26553)\u001b[0m Using downloaded and verified file: /root/.medmnist/pathmnist.npz\n",
            "\u001b[36m(ClientAppActor pid=26553)\u001b[0m Using downloaded and verified file: /root/.medmnist/pathmnist.npz\n",
            "\u001b[36m(ClientAppActor pid=26553)\u001b[0m [Client 0] evaluate, config: {}\n",
            "\u001b[36m(ClientAppActor pid=26553)\u001b[0m Using downloaded and verified file: /root/.medmnist/pathmnist.npz\n",
            "\u001b[36m(ClientAppActor pid=26553)\u001b[0m Using downloaded and verified file: /root/.medmnist/pathmnist.npz\n",
            "\u001b[36m(ClientAppActor pid=26553)\u001b[0m Using downloaded and verified file: /root/.medmnist/pathmnist.npz\n",
            "\u001b[36m(ClientAppActor pid=26553)\u001b[0m [Client 1] evaluate, config: {}\n",
            "\u001b[36m(ClientAppActor pid=26553)\u001b[0m Using downloaded and verified file: /root/.medmnist/pathmnist.npz\n",
            "\u001b[36m(ClientAppActor pid=26553)\u001b[0m Using downloaded and verified file: /root/.medmnist/pathmnist.npz\n",
            "\u001b[36m(ClientAppActor pid=26553)\u001b[0m Using downloaded and verified file: /root/.medmnist/pathmnist.npz\n",
            "\u001b[36m(ClientAppActor pid=26553)\u001b[0m [Client 3] evaluate, config: {}\n",
            "\u001b[36m(ClientAppActor pid=26553)\u001b[0m Using downloaded and verified file: /root/.medmnist/pathmnist.npz\n",
            "\u001b[36m(ClientAppActor pid=26553)\u001b[0m Using downloaded and verified file: /root/.medmnist/pathmnist.npz\n",
            "\u001b[36m(ClientAppActor pid=26553)\u001b[0m Using downloaded and verified file: /root/.medmnist/pathmnist.npz\n",
            "\u001b[36m(ClientAppActor pid=26553)\u001b[0m [Client 2] evaluate, config: {}\n",
            "\u001b[36m(ClientAppActor pid=26553)\u001b[0m Using downloaded and verified file: /root/.medmnist/pathmnist.npz\n",
            "\u001b[36m(ClientAppActor pid=26553)\u001b[0m Using downloaded and verified file: /root/.medmnist/pathmnist.npz\n",
            "\u001b[36m(ClientAppActor pid=26553)\u001b[0m Using downloaded and verified file: /root/.medmnist/pathmnist.npz\n",
            "\u001b[36m(ClientAppActor pid=26553)\u001b[0m [Client 5] evaluate, config: {}\n",
            "\u001b[36m(ClientAppActor pid=26553)\u001b[0m Using downloaded and verified file: /root/.medmnist/pathmnist.npz\n",
            "\u001b[36m(ClientAppActor pid=26553)\u001b[0m Using downloaded and verified file: /root/.medmnist/pathmnist.npz\n",
            "\u001b[36m(ClientAppActor pid=26553)\u001b[0m Using downloaded and verified file: /root/.medmnist/pathmnist.npz\n",
            "\u001b[36m(ClientAppActor pid=26553)\u001b[0m [Client 8] evaluate, config: {}\n",
            "\u001b[36m(ClientAppActor pid=26553)\u001b[0m Using downloaded and verified file: /root/.medmnist/pathmnist.npz\n",
            "\u001b[36m(ClientAppActor pid=26553)\u001b[0m Using downloaded and verified file: /root/.medmnist/pathmnist.npz\n",
            "\u001b[36m(ClientAppActor pid=26553)\u001b[0m Using downloaded and verified file: /root/.medmnist/pathmnist.npz\n",
            "\u001b[36m(ClientAppActor pid=26553)\u001b[0m [Client 7] evaluate, config: {}\n",
            "\u001b[36m(ClientAppActor pid=26553)\u001b[0m Using downloaded and verified file: /root/.medmnist/pathmnist.npz\n",
            "\u001b[36m(ClientAppActor pid=26553)\u001b[0m Using downloaded and verified file: /root/.medmnist/pathmnist.npz\n",
            "\u001b[36m(ClientAppActor pid=26553)\u001b[0m Using downloaded and verified file: /root/.medmnist/pathmnist.npz\n",
            "\u001b[36m(ClientAppActor pid=26553)\u001b[0m [Client 9] evaluate, config: {}\n",
            "\u001b[36m(ClientAppActor pid=26553)\u001b[0m Using downloaded and verified file: /root/.medmnist/pathmnist.npz\n",
            "\u001b[36m(ClientAppActor pid=26553)\u001b[0m Using downloaded and verified file: /root/.medmnist/pathmnist.npz\n",
            "\u001b[36m(ClientAppActor pid=26553)\u001b[0m Using downloaded and verified file: /root/.medmnist/pathmnist.npz\n",
            "\u001b[36m(ClientAppActor pid=26553)\u001b[0m [Client 4] evaluate, config: {}\n",
            "\u001b[36m(ClientAppActor pid=26553)\u001b[0m Using downloaded and verified file: /root/.medmnist/pathmnist.npz\n",
            "\u001b[36m(ClientAppActor pid=26553)\u001b[0m Using downloaded and verified file: /root/.medmnist/pathmnist.npz\n",
            "\u001b[36m(ClientAppActor pid=26553)\u001b[0m Using downloaded and verified file: /root/.medmnist/pathmnist.npz\n",
            "\u001b[36m(ClientAppActor pid=26553)\u001b[0m [Client 6] evaluate, config: {}\n"
          ]
        },
        {
          "output_type": "stream",
          "name": "stderr",
          "text": [
            "\u001b[92mINFO \u001b[0m:      aggregate_evaluate: received 10 results and 0 failures\n",
            "\u001b[92mINFO \u001b[0m:      \n",
            "\u001b[92mINFO \u001b[0m:      [ROUND 6]\n",
            "\u001b[92mINFO \u001b[0m:      configure_fit: strategy sampled 10 clients (out of 10)\n"
          ]
        },
        {
          "output_type": "stream",
          "name": "stdout",
          "text": [
            "\u001b[36m(ClientAppActor pid=26553)\u001b[0m Using downloaded and verified file: /root/.medmnist/pathmnist.npz\n",
            "\u001b[36m(ClientAppActor pid=26553)\u001b[0m Using downloaded and verified file: /root/.medmnist/pathmnist.npz\n",
            "\u001b[36m(ClientAppActor pid=26553)\u001b[0m Using downloaded and verified file: /root/.medmnist/pathmnist.npz\n",
            "\u001b[36m(ClientAppActor pid=26553)\u001b[0m [Client 1] fit, config: {}\n",
            "\u001b[36m(ClientAppActor pid=26553)\u001b[0m [Client 1] get_parameters\n",
            "\u001b[36m(ClientAppActor pid=26553)\u001b[0m Using downloaded and verified file: /root/.medmnist/pathmnist.npz\n",
            "\u001b[36m(ClientAppActor pid=26553)\u001b[0m Using downloaded and verified file: /root/.medmnist/pathmnist.npz\n",
            "\u001b[36m(ClientAppActor pid=26553)\u001b[0m Using downloaded and verified file: /root/.medmnist/pathmnist.npz\n",
            "\u001b[36m(ClientAppActor pid=26553)\u001b[0m [Client 9] fit, config: {}\n",
            "\u001b[36m(ClientAppActor pid=26553)\u001b[0m [Client 9] get_parameters\n",
            "\u001b[36m(ClientAppActor pid=26553)\u001b[0m Using downloaded and verified file: /root/.medmnist/pathmnist.npz\n",
            "\u001b[36m(ClientAppActor pid=26553)\u001b[0m Using downloaded and verified file: /root/.medmnist/pathmnist.npz\n",
            "\u001b[36m(ClientAppActor pid=26553)\u001b[0m Using downloaded and verified file: /root/.medmnist/pathmnist.npz\n",
            "\u001b[36m(ClientAppActor pid=26553)\u001b[0m [Client 0] fit, config: {}\n",
            "\u001b[36m(ClientAppActor pid=26553)\u001b[0m [Client 0] get_parameters\n",
            "\u001b[36m(ClientAppActor pid=26553)\u001b[0m Using downloaded and verified file: /root/.medmnist/pathmnist.npz\n",
            "\u001b[36m(ClientAppActor pid=26553)\u001b[0m Using downloaded and verified file: /root/.medmnist/pathmnist.npz\n",
            "\u001b[36m(ClientAppActor pid=26553)\u001b[0m Using downloaded and verified file: /root/.medmnist/pathmnist.npz\n",
            "\u001b[36m(ClientAppActor pid=26553)\u001b[0m [Client 4] fit, config: {}\n",
            "\u001b[36m(ClientAppActor pid=26553)\u001b[0m [Client 4] get_parameters\n",
            "\u001b[36m(ClientAppActor pid=26553)\u001b[0m Using downloaded and verified file: /root/.medmnist/pathmnist.npz\n",
            "\u001b[36m(ClientAppActor pid=26553)\u001b[0m Using downloaded and verified file: /root/.medmnist/pathmnist.npz\n",
            "\u001b[36m(ClientAppActor pid=26553)\u001b[0m Using downloaded and verified file: /root/.medmnist/pathmnist.npz\n",
            "\u001b[36m(ClientAppActor pid=26553)\u001b[0m [Client 6] fit, config: {}\n",
            "\u001b[36m(ClientAppActor pid=26553)\u001b[0m [Client 6] get_parameters\n",
            "\u001b[36m(ClientAppActor pid=26553)\u001b[0m Using downloaded and verified file: /root/.medmnist/pathmnist.npz\n",
            "\u001b[36m(ClientAppActor pid=26553)\u001b[0m Using downloaded and verified file: /root/.medmnist/pathmnist.npz\n",
            "\u001b[36m(ClientAppActor pid=26553)\u001b[0m Using downloaded and verified file: /root/.medmnist/pathmnist.npz\n",
            "\u001b[36m(ClientAppActor pid=26553)\u001b[0m [Client 7] fit, config: {}\n",
            "\u001b[36m(ClientAppActor pid=26553)\u001b[0m [Client 7] get_parameters\n",
            "\u001b[36m(ClientAppActor pid=26553)\u001b[0m Using downloaded and verified file: /root/.medmnist/pathmnist.npz\n",
            "\u001b[36m(ClientAppActor pid=26553)\u001b[0m Using downloaded and verified file: /root/.medmnist/pathmnist.npz\n",
            "\u001b[36m(ClientAppActor pid=26553)\u001b[0m Using downloaded and verified file: /root/.medmnist/pathmnist.npz\n",
            "\u001b[36m(ClientAppActor pid=26553)\u001b[0m [Client 2] fit, config: {}\n",
            "\u001b[36m(ClientAppActor pid=26553)\u001b[0m [Client 2] get_parameters\n",
            "\u001b[36m(ClientAppActor pid=26553)\u001b[0m Using downloaded and verified file: /root/.medmnist/pathmnist.npz\n",
            "\u001b[36m(ClientAppActor pid=26553)\u001b[0m Using downloaded and verified file: /root/.medmnist/pathmnist.npz\n",
            "\u001b[36m(ClientAppActor pid=26553)\u001b[0m Using downloaded and verified file: /root/.medmnist/pathmnist.npz\n",
            "\u001b[36m(ClientAppActor pid=26553)\u001b[0m [Client 3] fit, config: {}\n",
            "\u001b[36m(ClientAppActor pid=26553)\u001b[0m [Client 3] get_parameters\n",
            "\u001b[36m(ClientAppActor pid=26553)\u001b[0m Using downloaded and verified file: /root/.medmnist/pathmnist.npz\n",
            "\u001b[36m(ClientAppActor pid=26553)\u001b[0m Using downloaded and verified file: /root/.medmnist/pathmnist.npz\n",
            "\u001b[36m(ClientAppActor pid=26553)\u001b[0m Using downloaded and verified file: /root/.medmnist/pathmnist.npz\n",
            "\u001b[36m(ClientAppActor pid=26553)\u001b[0m [Client 5] fit, config: {}\n",
            "\u001b[36m(ClientAppActor pid=26553)\u001b[0m [Client 5] get_parameters\n",
            "\u001b[36m(ClientAppActor pid=26553)\u001b[0m Using downloaded and verified file: /root/.medmnist/pathmnist.npz\n",
            "\u001b[36m(ClientAppActor pid=26553)\u001b[0m Using downloaded and verified file: /root/.medmnist/pathmnist.npz\n",
            "\u001b[36m(ClientAppActor pid=26553)\u001b[0m Using downloaded and verified file: /root/.medmnist/pathmnist.npz\n",
            "\u001b[36m(ClientAppActor pid=26553)\u001b[0m [Client 8] fit, config: {}\n"
          ]
        },
        {
          "output_type": "stream",
          "name": "stderr",
          "text": [
            "\u001b[92mINFO \u001b[0m:      aggregate_fit: received 10 results and 0 failures\n"
          ]
        },
        {
          "output_type": "stream",
          "name": "stdout",
          "text": [
            "\u001b[36m(ClientAppActor pid=26553)\u001b[0m [Client 8] get_parameters\n"
          ]
        },
        {
          "output_type": "stream",
          "name": "stderr",
          "text": [
            "\u001b[92mINFO \u001b[0m:      fit progress: (6, 0.15996927906454136, {'test_acc': 94.72144846796657}, 1467.7224354179998)\n",
            "\u001b[92mINFO \u001b[0m:      configure_evaluate: strategy sampled 10 clients (out of 10)\n"
          ]
        },
        {
          "output_type": "stream",
          "name": "stdout",
          "text": [
            "Global Test Accuracy (Round 6): 94.72%\n",
            "\u001b[36m(ClientAppActor pid=26553)\u001b[0m Using downloaded and verified file: /root/.medmnist/pathmnist.npz\n",
            "\u001b[36m(ClientAppActor pid=26553)\u001b[0m Using downloaded and verified file: /root/.medmnist/pathmnist.npz\n",
            "\u001b[36m(ClientAppActor pid=26553)\u001b[0m Using downloaded and verified file: /root/.medmnist/pathmnist.npz\n",
            "\u001b[36m(ClientAppActor pid=26553)\u001b[0m [Client 4] evaluate, config: {}\n",
            "\u001b[36m(ClientAppActor pid=26553)\u001b[0m Using downloaded and verified file: /root/.medmnist/pathmnist.npz\n",
            "\u001b[36m(ClientAppActor pid=26553)\u001b[0m Using downloaded and verified file: /root/.medmnist/pathmnist.npz\n",
            "\u001b[36m(ClientAppActor pid=26553)\u001b[0m Using downloaded and verified file: /root/.medmnist/pathmnist.npz\n",
            "\u001b[36m(ClientAppActor pid=26553)\u001b[0m [Client 5] evaluate, config: {}\n",
            "\u001b[36m(ClientAppActor pid=26553)\u001b[0m Using downloaded and verified file: /root/.medmnist/pathmnist.npz\n",
            "\u001b[36m(ClientAppActor pid=26553)\u001b[0m Using downloaded and verified file: /root/.medmnist/pathmnist.npz\n",
            "\u001b[36m(ClientAppActor pid=26553)\u001b[0m Using downloaded and verified file: /root/.medmnist/pathmnist.npz\n",
            "\u001b[36m(ClientAppActor pid=26553)\u001b[0m [Client 7] evaluate, config: {}\n",
            "\u001b[36m(ClientAppActor pid=26553)\u001b[0m Using downloaded and verified file: /root/.medmnist/pathmnist.npz\n",
            "\u001b[36m(ClientAppActor pid=26553)\u001b[0m Using downloaded and verified file: /root/.medmnist/pathmnist.npz\n",
            "\u001b[36m(ClientAppActor pid=26553)\u001b[0m Using downloaded and verified file: /root/.medmnist/pathmnist.npz\n",
            "\u001b[36m(ClientAppActor pid=26553)\u001b[0m [Client 1] evaluate, config: {}\n",
            "\u001b[36m(ClientAppActor pid=26553)\u001b[0m Using downloaded and verified file: /root/.medmnist/pathmnist.npz\n",
            "\u001b[36m(ClientAppActor pid=26553)\u001b[0m Using downloaded and verified file: /root/.medmnist/pathmnist.npz\n",
            "\u001b[36m(ClientAppActor pid=26553)\u001b[0m Using downloaded and verified file: /root/.medmnist/pathmnist.npz\n",
            "\u001b[36m(ClientAppActor pid=26553)\u001b[0m [Client 3] evaluate, config: {}\n",
            "\u001b[36m(ClientAppActor pid=26553)\u001b[0m Using downloaded and verified file: /root/.medmnist/pathmnist.npz\n",
            "\u001b[36m(ClientAppActor pid=26553)\u001b[0m Using downloaded and verified file: /root/.medmnist/pathmnist.npz\n",
            "\u001b[36m(ClientAppActor pid=26553)\u001b[0m Using downloaded and verified file: /root/.medmnist/pathmnist.npz\n",
            "\u001b[36m(ClientAppActor pid=26553)\u001b[0m [Client 8] evaluate, config: {}\n",
            "\u001b[36m(ClientAppActor pid=26553)\u001b[0m Using downloaded and verified file: /root/.medmnist/pathmnist.npz\n",
            "\u001b[36m(ClientAppActor pid=26553)\u001b[0m Using downloaded and verified file: /root/.medmnist/pathmnist.npz\n",
            "\u001b[36m(ClientAppActor pid=26553)\u001b[0m Using downloaded and verified file: /root/.medmnist/pathmnist.npz\n",
            "\u001b[36m(ClientAppActor pid=26553)\u001b[0m [Client 2] evaluate, config: {}\n",
            "\u001b[36m(ClientAppActor pid=26553)\u001b[0m Using downloaded and verified file: /root/.medmnist/pathmnist.npz\n",
            "\u001b[36m(ClientAppActor pid=26553)\u001b[0m Using downloaded and verified file: /root/.medmnist/pathmnist.npz\n",
            "\u001b[36m(ClientAppActor pid=26553)\u001b[0m Using downloaded and verified file: /root/.medmnist/pathmnist.npz\n",
            "\u001b[36m(ClientAppActor pid=26553)\u001b[0m [Client 0] evaluate, config: {}\n",
            "\u001b[36m(ClientAppActor pid=26553)\u001b[0m Using downloaded and verified file: /root/.medmnist/pathmnist.npz\n",
            "\u001b[36m(ClientAppActor pid=26553)\u001b[0m Using downloaded and verified file: /root/.medmnist/pathmnist.npz\n",
            "\u001b[36m(ClientAppActor pid=26553)\u001b[0m Using downloaded and verified file: /root/.medmnist/pathmnist.npz\n",
            "\u001b[36m(ClientAppActor pid=26553)\u001b[0m [Client 6] evaluate, config: {}\n",
            "\u001b[36m(ClientAppActor pid=26553)\u001b[0m Using downloaded and verified file: /root/.medmnist/pathmnist.npz\n",
            "\u001b[36m(ClientAppActor pid=26553)\u001b[0m Using downloaded and verified file: /root/.medmnist/pathmnist.npz\n",
            "\u001b[36m(ClientAppActor pid=26553)\u001b[0m Using downloaded and verified file: /root/.medmnist/pathmnist.npz\n",
            "\u001b[36m(ClientAppActor pid=26553)\u001b[0m [Client 9] evaluate, config: {}\n"
          ]
        },
        {
          "output_type": "stream",
          "name": "stderr",
          "text": [
            "\u001b[92mINFO \u001b[0m:      aggregate_evaluate: received 10 results and 0 failures\n",
            "\u001b[92mINFO \u001b[0m:      \n",
            "\u001b[92mINFO \u001b[0m:      [ROUND 7]\n",
            "\u001b[92mINFO \u001b[0m:      configure_fit: strategy sampled 10 clients (out of 10)\n"
          ]
        },
        {
          "output_type": "stream",
          "name": "stdout",
          "text": [
            "\u001b[36m(ClientAppActor pid=26553)\u001b[0m Using downloaded and verified file: /root/.medmnist/pathmnist.npz\n",
            "\u001b[36m(ClientAppActor pid=26553)\u001b[0m Using downloaded and verified file: /root/.medmnist/pathmnist.npz\n",
            "\u001b[36m(ClientAppActor pid=26553)\u001b[0m Using downloaded and verified file: /root/.medmnist/pathmnist.npz\n",
            "\u001b[36m(ClientAppActor pid=26553)\u001b[0m [Client 1] fit, config: {}\n",
            "\u001b[36m(ClientAppActor pid=26553)\u001b[0m [Client 1] get_parameters\n",
            "\u001b[36m(ClientAppActor pid=26553)\u001b[0m Using downloaded and verified file: /root/.medmnist/pathmnist.npz\n",
            "\u001b[36m(ClientAppActor pid=26553)\u001b[0m Using downloaded and verified file: /root/.medmnist/pathmnist.npz\n",
            "\u001b[36m(ClientAppActor pid=26553)\u001b[0m Using downloaded and verified file: /root/.medmnist/pathmnist.npz\n",
            "\u001b[36m(ClientAppActor pid=26553)\u001b[0m [Client 4] fit, config: {}\n",
            "\u001b[36m(ClientAppActor pid=26553)\u001b[0m [Client 4] get_parameters\n",
            "\u001b[36m(ClientAppActor pid=26553)\u001b[0m Using downloaded and verified file: /root/.medmnist/pathmnist.npz\n",
            "\u001b[36m(ClientAppActor pid=26553)\u001b[0m Using downloaded and verified file: /root/.medmnist/pathmnist.npz\n",
            "\u001b[36m(ClientAppActor pid=26553)\u001b[0m Using downloaded and verified file: /root/.medmnist/pathmnist.npz\n",
            "\u001b[36m(ClientAppActor pid=26553)\u001b[0m [Client 5] fit, config: {}\n",
            "\u001b[36m(ClientAppActor pid=26553)\u001b[0m [Client 5] get_parameters\n",
            "\u001b[36m(ClientAppActor pid=26553)\u001b[0m Using downloaded and verified file: /root/.medmnist/pathmnist.npz\n",
            "\u001b[36m(ClientAppActor pid=26553)\u001b[0m Using downloaded and verified file: /root/.medmnist/pathmnist.npz\n",
            "\u001b[36m(ClientAppActor pid=26553)\u001b[0m Using downloaded and verified file: /root/.medmnist/pathmnist.npz\n",
            "\u001b[36m(ClientAppActor pid=26553)\u001b[0m [Client 7] fit, config: {}\n",
            "\u001b[36m(ClientAppActor pid=26553)\u001b[0m [Client 7] get_parameters\n",
            "\u001b[36m(ClientAppActor pid=26553)\u001b[0m Using downloaded and verified file: /root/.medmnist/pathmnist.npz\n",
            "\u001b[36m(ClientAppActor pid=26553)\u001b[0m Using downloaded and verified file: /root/.medmnist/pathmnist.npz\n",
            "\u001b[36m(ClientAppActor pid=26553)\u001b[0m Using downloaded and verified file: /root/.medmnist/pathmnist.npz\n",
            "\u001b[36m(ClientAppActor pid=26553)\u001b[0m [Client 8] fit, config: {}\n",
            "\u001b[36m(ClientAppActor pid=26553)\u001b[0m [Client 8] get_parameters\n",
            "\u001b[36m(ClientAppActor pid=26553)\u001b[0m Using downloaded and verified file: /root/.medmnist/pathmnist.npz\n",
            "\u001b[36m(ClientAppActor pid=26553)\u001b[0m Using downloaded and verified file: /root/.medmnist/pathmnist.npz\n",
            "\u001b[36m(ClientAppActor pid=26553)\u001b[0m Using downloaded and verified file: /root/.medmnist/pathmnist.npz\n",
            "\u001b[36m(ClientAppActor pid=26553)\u001b[0m [Client 6] fit, config: {}\n",
            "\u001b[36m(ClientAppActor pid=26553)\u001b[0m [Client 6] get_parameters\n",
            "\u001b[36m(ClientAppActor pid=26553)\u001b[0m Using downloaded and verified file: /root/.medmnist/pathmnist.npz\n",
            "\u001b[36m(ClientAppActor pid=26553)\u001b[0m Using downloaded and verified file: /root/.medmnist/pathmnist.npz\n",
            "\u001b[36m(ClientAppActor pid=26553)\u001b[0m Using downloaded and verified file: /root/.medmnist/pathmnist.npz\n",
            "\u001b[36m(ClientAppActor pid=26553)\u001b[0m [Client 9] fit, config: {}\n",
            "\u001b[36m(ClientAppActor pid=26553)\u001b[0m [Client 9] get_parameters\n",
            "\u001b[36m(ClientAppActor pid=26553)\u001b[0m Using downloaded and verified file: /root/.medmnist/pathmnist.npz\n",
            "\u001b[36m(ClientAppActor pid=26553)\u001b[0m Using downloaded and verified file: /root/.medmnist/pathmnist.npz\n",
            "\u001b[36m(ClientAppActor pid=26553)\u001b[0m Using downloaded and verified file: /root/.medmnist/pathmnist.npz\n",
            "\u001b[36m(ClientAppActor pid=26553)\u001b[0m [Client 0] fit, config: {}\n",
            "\u001b[36m(ClientAppActor pid=26553)\u001b[0m [Client 0] get_parameters\n",
            "\u001b[36m(ClientAppActor pid=26553)\u001b[0m Using downloaded and verified file: /root/.medmnist/pathmnist.npz\n",
            "\u001b[36m(ClientAppActor pid=26553)\u001b[0m Using downloaded and verified file: /root/.medmnist/pathmnist.npz\n",
            "\u001b[36m(ClientAppActor pid=26553)\u001b[0m Using downloaded and verified file: /root/.medmnist/pathmnist.npz\n",
            "\u001b[36m(ClientAppActor pid=26553)\u001b[0m [Client 2] fit, config: {}\n",
            "\u001b[36m(ClientAppActor pid=26553)\u001b[0m [Client 2] get_parameters\n",
            "\u001b[36m(ClientAppActor pid=26553)\u001b[0m Using downloaded and verified file: /root/.medmnist/pathmnist.npz\n",
            "\u001b[36m(ClientAppActor pid=26553)\u001b[0m Using downloaded and verified file: /root/.medmnist/pathmnist.npz\n",
            "\u001b[36m(ClientAppActor pid=26553)\u001b[0m Using downloaded and verified file: /root/.medmnist/pathmnist.npz\n",
            "\u001b[36m(ClientAppActor pid=26553)\u001b[0m [Client 3] fit, config: {}\n"
          ]
        },
        {
          "output_type": "stream",
          "name": "stderr",
          "text": [
            "\u001b[92mINFO \u001b[0m:      aggregate_fit: received 10 results and 0 failures\n"
          ]
        },
        {
          "output_type": "stream",
          "name": "stdout",
          "text": [
            "\u001b[36m(ClientAppActor pid=26553)\u001b[0m [Client 3] get_parameters\n"
          ]
        },
        {
          "output_type": "stream",
          "name": "stderr",
          "text": [
            "\u001b[92mINFO \u001b[0m:      fit progress: (7, 0.17391146844730968, {'test_acc': 93.4958217270195}, 1717.291157707)\n",
            "\u001b[92mINFO \u001b[0m:      configure_evaluate: strategy sampled 10 clients (out of 10)\n"
          ]
        },
        {
          "output_type": "stream",
          "name": "stdout",
          "text": [
            "Global Test Accuracy (Round 7): 93.50%\n",
            "\u001b[36m(ClientAppActor pid=26553)\u001b[0m Using downloaded and verified file: /root/.medmnist/pathmnist.npz\n",
            "\u001b[36m(ClientAppActor pid=26553)\u001b[0m Using downloaded and verified file: /root/.medmnist/pathmnist.npz\n",
            "\u001b[36m(ClientAppActor pid=26553)\u001b[0m Using downloaded and verified file: /root/.medmnist/pathmnist.npz\n",
            "\u001b[36m(ClientAppActor pid=26553)\u001b[0m [Client 2] evaluate, config: {}\n",
            "\u001b[36m(ClientAppActor pid=26553)\u001b[0m Using downloaded and verified file: /root/.medmnist/pathmnist.npz\n",
            "\u001b[36m(ClientAppActor pid=26553)\u001b[0m Using downloaded and verified file: /root/.medmnist/pathmnist.npz\n",
            "\u001b[36m(ClientAppActor pid=26553)\u001b[0m Using downloaded and verified file: /root/.medmnist/pathmnist.npz\n",
            "\u001b[36m(ClientAppActor pid=26553)\u001b[0m [Client 5] evaluate, config: {}\n",
            "\u001b[36m(ClientAppActor pid=26553)\u001b[0m Using downloaded and verified file: /root/.medmnist/pathmnist.npz\n",
            "\u001b[36m(ClientAppActor pid=26553)\u001b[0m Using downloaded and verified file: /root/.medmnist/pathmnist.npz\n",
            "\u001b[36m(ClientAppActor pid=26553)\u001b[0m Using downloaded and verified file: /root/.medmnist/pathmnist.npz\n",
            "\u001b[36m(ClientAppActor pid=26553)\u001b[0m [Client 8] evaluate, config: {}\n",
            "\u001b[36m(ClientAppActor pid=26553)\u001b[0m Using downloaded and verified file: /root/.medmnist/pathmnist.npz\n",
            "\u001b[36m(ClientAppActor pid=26553)\u001b[0m Using downloaded and verified file: /root/.medmnist/pathmnist.npz\n",
            "\u001b[36m(ClientAppActor pid=26553)\u001b[0m Using downloaded and verified file: /root/.medmnist/pathmnist.npz\n",
            "\u001b[36m(ClientAppActor pid=26553)\u001b[0m [Client 9] evaluate, config: {}\n",
            "\u001b[36m(ClientAppActor pid=26553)\u001b[0m Using downloaded and verified file: /root/.medmnist/pathmnist.npz\n",
            "\u001b[36m(ClientAppActor pid=26553)\u001b[0m Using downloaded and verified file: /root/.medmnist/pathmnist.npz\n",
            "\u001b[36m(ClientAppActor pid=26553)\u001b[0m Using downloaded and verified file: /root/.medmnist/pathmnist.npz\n",
            "\u001b[36m(ClientAppActor pid=26553)\u001b[0m [Client 0] evaluate, config: {}\n",
            "\u001b[36m(ClientAppActor pid=26553)\u001b[0m Using downloaded and verified file: /root/.medmnist/pathmnist.npz\n",
            "\u001b[36m(ClientAppActor pid=26553)\u001b[0m Using downloaded and verified file: /root/.medmnist/pathmnist.npz\n",
            "\u001b[36m(ClientAppActor pid=26553)\u001b[0m Using downloaded and verified file: /root/.medmnist/pathmnist.npz\n",
            "\u001b[36m(ClientAppActor pid=26553)\u001b[0m [Client 4] evaluate, config: {}\n",
            "\u001b[36m(ClientAppActor pid=26553)\u001b[0m Using downloaded and verified file: /root/.medmnist/pathmnist.npz\n",
            "\u001b[36m(ClientAppActor pid=26553)\u001b[0m Using downloaded and verified file: /root/.medmnist/pathmnist.npz\n",
            "\u001b[36m(ClientAppActor pid=26553)\u001b[0m Using downloaded and verified file: /root/.medmnist/pathmnist.npz\n",
            "\u001b[36m(ClientAppActor pid=26553)\u001b[0m [Client 6] evaluate, config: {}\n",
            "\u001b[36m(ClientAppActor pid=26553)\u001b[0m Using downloaded and verified file: /root/.medmnist/pathmnist.npz\n",
            "\u001b[36m(ClientAppActor pid=26553)\u001b[0m Using downloaded and verified file: /root/.medmnist/pathmnist.npz\n",
            "\u001b[36m(ClientAppActor pid=26553)\u001b[0m Using downloaded and verified file: /root/.medmnist/pathmnist.npz\n",
            "\u001b[36m(ClientAppActor pid=26553)\u001b[0m [Client 7] evaluate, config: {}\n",
            "\u001b[36m(ClientAppActor pid=26553)\u001b[0m Using downloaded and verified file: /root/.medmnist/pathmnist.npz\n",
            "\u001b[36m(ClientAppActor pid=26553)\u001b[0m Using downloaded and verified file: /root/.medmnist/pathmnist.npz\n",
            "\u001b[36m(ClientAppActor pid=26553)\u001b[0m Using downloaded and verified file: /root/.medmnist/pathmnist.npz\n",
            "\u001b[36m(ClientAppActor pid=26553)\u001b[0m [Client 1] evaluate, config: {}\n",
            "\u001b[36m(ClientAppActor pid=26553)\u001b[0m Using downloaded and verified file: /root/.medmnist/pathmnist.npz\n",
            "\u001b[36m(ClientAppActor pid=26553)\u001b[0m Using downloaded and verified file: /root/.medmnist/pathmnist.npz\n",
            "\u001b[36m(ClientAppActor pid=26553)\u001b[0m Using downloaded and verified file: /root/.medmnist/pathmnist.npz\n",
            "\u001b[36m(ClientAppActor pid=26553)\u001b[0m [Client 3] evaluate, config: {}\n"
          ]
        },
        {
          "output_type": "stream",
          "name": "stderr",
          "text": [
            "\u001b[92mINFO \u001b[0m:      aggregate_evaluate: received 10 results and 0 failures\n",
            "\u001b[92mINFO \u001b[0m:      \n",
            "\u001b[92mINFO \u001b[0m:      [ROUND 8]\n",
            "\u001b[92mINFO \u001b[0m:      configure_fit: strategy sampled 10 clients (out of 10)\n"
          ]
        },
        {
          "output_type": "stream",
          "name": "stdout",
          "text": [
            "\u001b[36m(ClientAppActor pid=26553)\u001b[0m Using downloaded and verified file: /root/.medmnist/pathmnist.npz\n",
            "\u001b[36m(ClientAppActor pid=26553)\u001b[0m Using downloaded and verified file: /root/.medmnist/pathmnist.npz\n",
            "\u001b[36m(ClientAppActor pid=26553)\u001b[0m Using downloaded and verified file: /root/.medmnist/pathmnist.npz\n",
            "\u001b[36m(ClientAppActor pid=26553)\u001b[0m [Client 0] fit, config: {}\n",
            "\u001b[36m(ClientAppActor pid=26553)\u001b[0m [Client 0] get_parameters\n",
            "\u001b[36m(ClientAppActor pid=26553)\u001b[0m Using downloaded and verified file: /root/.medmnist/pathmnist.npz\n",
            "\u001b[36m(ClientAppActor pid=26553)\u001b[0m Using downloaded and verified file: /root/.medmnist/pathmnist.npz\n",
            "\u001b[36m(ClientAppActor pid=26553)\u001b[0m Using downloaded and verified file: /root/.medmnist/pathmnist.npz\n",
            "\u001b[36m(ClientAppActor pid=26553)\u001b[0m [Client 1] fit, config: {}\n",
            "\u001b[36m(ClientAppActor pid=26553)\u001b[0m [Client 1] get_parameters\n",
            "\u001b[36m(ClientAppActor pid=26553)\u001b[0m Using downloaded and verified file: /root/.medmnist/pathmnist.npz\n",
            "\u001b[36m(ClientAppActor pid=26553)\u001b[0m Using downloaded and verified file: /root/.medmnist/pathmnist.npz\n",
            "\u001b[36m(ClientAppActor pid=26553)\u001b[0m Using downloaded and verified file: /root/.medmnist/pathmnist.npz\n",
            "\u001b[36m(ClientAppActor pid=26553)\u001b[0m [Client 4] fit, config: {}\n",
            "\u001b[36m(ClientAppActor pid=26553)\u001b[0m [Client 4] get_parameters\n",
            "\u001b[36m(ClientAppActor pid=26553)\u001b[0m Using downloaded and verified file: /root/.medmnist/pathmnist.npz\n",
            "\u001b[36m(ClientAppActor pid=26553)\u001b[0m Using downloaded and verified file: /root/.medmnist/pathmnist.npz\n",
            "\u001b[36m(ClientAppActor pid=26553)\u001b[0m Using downloaded and verified file: /root/.medmnist/pathmnist.npz\n",
            "\u001b[36m(ClientAppActor pid=26553)\u001b[0m [Client 8] fit, config: {}\n",
            "\u001b[36m(ClientAppActor pid=26553)\u001b[0m [Client 8] get_parameters\n",
            "\u001b[36m(ClientAppActor pid=26553)\u001b[0m Using downloaded and verified file: /root/.medmnist/pathmnist.npz\n",
            "\u001b[36m(ClientAppActor pid=26553)\u001b[0m Using downloaded and verified file: /root/.medmnist/pathmnist.npz\n",
            "\u001b[36m(ClientAppActor pid=26553)\u001b[0m Using downloaded and verified file: /root/.medmnist/pathmnist.npz\n",
            "\u001b[36m(ClientAppActor pid=26553)\u001b[0m [Client 2] fit, config: {}\n",
            "\u001b[36m(ClientAppActor pid=26553)\u001b[0m [Client 2] get_parameters\n",
            "\u001b[36m(ClientAppActor pid=26553)\u001b[0m Using downloaded and verified file: /root/.medmnist/pathmnist.npz\n",
            "\u001b[36m(ClientAppActor pid=26553)\u001b[0m Using downloaded and verified file: /root/.medmnist/pathmnist.npz\n",
            "\u001b[36m(ClientAppActor pid=26553)\u001b[0m Using downloaded and verified file: /root/.medmnist/pathmnist.npz\n",
            "\u001b[36m(ClientAppActor pid=26553)\u001b[0m [Client 5] fit, config: {}\n",
            "\u001b[36m(ClientAppActor pid=26553)\u001b[0m [Client 5] get_parameters\n",
            "\u001b[36m(ClientAppActor pid=26553)\u001b[0m Using downloaded and verified file: /root/.medmnist/pathmnist.npz\n",
            "\u001b[36m(ClientAppActor pid=26553)\u001b[0m Using downloaded and verified file: /root/.medmnist/pathmnist.npz\n",
            "\u001b[36m(ClientAppActor pid=26553)\u001b[0m Using downloaded and verified file: /root/.medmnist/pathmnist.npz\n",
            "\u001b[36m(ClientAppActor pid=26553)\u001b[0m [Client 6] fit, config: {}\n",
            "\u001b[36m(ClientAppActor pid=26553)\u001b[0m [Client 6] get_parameters\n",
            "\u001b[36m(ClientAppActor pid=26553)\u001b[0m Using downloaded and verified file: /root/.medmnist/pathmnist.npz\n",
            "\u001b[36m(ClientAppActor pid=26553)\u001b[0m Using downloaded and verified file: /root/.medmnist/pathmnist.npz\n",
            "\u001b[36m(ClientAppActor pid=26553)\u001b[0m Using downloaded and verified file: /root/.medmnist/pathmnist.npz\n",
            "\u001b[36m(ClientAppActor pid=26553)\u001b[0m [Client 9] fit, config: {}\n",
            "\u001b[36m(ClientAppActor pid=26553)\u001b[0m [Client 9] get_parameters\n",
            "\u001b[36m(ClientAppActor pid=26553)\u001b[0m Using downloaded and verified file: /root/.medmnist/pathmnist.npz\n",
            "\u001b[36m(ClientAppActor pid=26553)\u001b[0m Using downloaded and verified file: /root/.medmnist/pathmnist.npz\n",
            "\u001b[36m(ClientAppActor pid=26553)\u001b[0m Using downloaded and verified file: /root/.medmnist/pathmnist.npz\n",
            "\u001b[36m(ClientAppActor pid=26553)\u001b[0m [Client 3] fit, config: {}\n",
            "\u001b[36m(ClientAppActor pid=26553)\u001b[0m [Client 3] get_parameters\n",
            "\u001b[36m(ClientAppActor pid=26553)\u001b[0m Using downloaded and verified file: /root/.medmnist/pathmnist.npz\n",
            "\u001b[36m(ClientAppActor pid=26553)\u001b[0m Using downloaded and verified file: /root/.medmnist/pathmnist.npz\n",
            "\u001b[36m(ClientAppActor pid=26553)\u001b[0m Using downloaded and verified file: /root/.medmnist/pathmnist.npz\n",
            "\u001b[36m(ClientAppActor pid=26553)\u001b[0m [Client 7] fit, config: {}\n"
          ]
        },
        {
          "output_type": "stream",
          "name": "stderr",
          "text": [
            "\u001b[92mINFO \u001b[0m:      aggregate_fit: received 10 results and 0 failures\n"
          ]
        },
        {
          "output_type": "stream",
          "name": "stdout",
          "text": [
            "\u001b[36m(ClientAppActor pid=26553)\u001b[0m [Client 7] get_parameters\n"
          ]
        },
        {
          "output_type": "stream",
          "name": "stderr",
          "text": [
            "\u001b[92mINFO \u001b[0m:      fit progress: (8, 0.18163899101514733, {'test_acc': 93.89972144846797}, 1966.8336128190003)\n",
            "\u001b[92mINFO \u001b[0m:      configure_evaluate: strategy sampled 10 clients (out of 10)\n"
          ]
        },
        {
          "output_type": "stream",
          "name": "stdout",
          "text": [
            "Global Test Accuracy (Round 8): 93.90%\n",
            "\u001b[36m(ClientAppActor pid=26553)\u001b[0m Using downloaded and verified file: /root/.medmnist/pathmnist.npz\n",
            "\u001b[36m(ClientAppActor pid=26553)\u001b[0m Using downloaded and verified file: /root/.medmnist/pathmnist.npz\n",
            "\u001b[36m(ClientAppActor pid=26553)\u001b[0m Using downloaded and verified file: /root/.medmnist/pathmnist.npz\n",
            "\u001b[36m(ClientAppActor pid=26553)\u001b[0m [Client 7] evaluate, config: {}\n",
            "\u001b[36m(ClientAppActor pid=26553)\u001b[0m Using downloaded and verified file: /root/.medmnist/pathmnist.npz\n",
            "\u001b[36m(ClientAppActor pid=26553)\u001b[0m Using downloaded and verified file: /root/.medmnist/pathmnist.npz\n",
            "\u001b[36m(ClientAppActor pid=26553)\u001b[0m Using downloaded and verified file: /root/.medmnist/pathmnist.npz\n",
            "\u001b[36m(ClientAppActor pid=26553)\u001b[0m [Client 8] evaluate, config: {}\n",
            "\u001b[36m(ClientAppActor pid=26553)\u001b[0m Using downloaded and verified file: /root/.medmnist/pathmnist.npz\n",
            "\u001b[36m(ClientAppActor pid=26553)\u001b[0m Using downloaded and verified file: /root/.medmnist/pathmnist.npz\n",
            "\u001b[36m(ClientAppActor pid=26553)\u001b[0m Using downloaded and verified file: /root/.medmnist/pathmnist.npz\n",
            "\u001b[36m(ClientAppActor pid=26553)\u001b[0m [Client 3] evaluate, config: {}\n",
            "\u001b[36m(ClientAppActor pid=26553)\u001b[0m Using downloaded and verified file: /root/.medmnist/pathmnist.npz\n",
            "\u001b[36m(ClientAppActor pid=26553)\u001b[0m Using downloaded and verified file: /root/.medmnist/pathmnist.npz\n",
            "\u001b[36m(ClientAppActor pid=26553)\u001b[0m Using downloaded and verified file: /root/.medmnist/pathmnist.npz\n",
            "\u001b[36m(ClientAppActor pid=26553)\u001b[0m [Client 4] evaluate, config: {}\n",
            "\u001b[36m(ClientAppActor pid=26553)\u001b[0m Using downloaded and verified file: /root/.medmnist/pathmnist.npz\n",
            "\u001b[36m(ClientAppActor pid=26553)\u001b[0m Using downloaded and verified file: /root/.medmnist/pathmnist.npz\n",
            "\u001b[36m(ClientAppActor pid=26553)\u001b[0m Using downloaded and verified file: /root/.medmnist/pathmnist.npz\n",
            "\u001b[36m(ClientAppActor pid=26553)\u001b[0m [Client 0] evaluate, config: {}\n",
            "\u001b[36m(ClientAppActor pid=26553)\u001b[0m Using downloaded and verified file: /root/.medmnist/pathmnist.npz\n",
            "\u001b[36m(ClientAppActor pid=26553)\u001b[0m Using downloaded and verified file: /root/.medmnist/pathmnist.npz\n",
            "\u001b[36m(ClientAppActor pid=26553)\u001b[0m Using downloaded and verified file: /root/.medmnist/pathmnist.npz\n",
            "\u001b[36m(ClientAppActor pid=26553)\u001b[0m [Client 1] evaluate, config: {}\n",
            "\u001b[36m(ClientAppActor pid=26553)\u001b[0m Using downloaded and verified file: /root/.medmnist/pathmnist.npz\n",
            "\u001b[36m(ClientAppActor pid=26553)\u001b[0m Using downloaded and verified file: /root/.medmnist/pathmnist.npz\n",
            "\u001b[36m(ClientAppActor pid=26553)\u001b[0m Using downloaded and verified file: /root/.medmnist/pathmnist.npz\n",
            "\u001b[36m(ClientAppActor pid=26553)\u001b[0m [Client 2] evaluate, config: {}\n",
            "\u001b[36m(ClientAppActor pid=26553)\u001b[0m Using downloaded and verified file: /root/.medmnist/pathmnist.npz\n",
            "\u001b[36m(ClientAppActor pid=26553)\u001b[0m Using downloaded and verified file: /root/.medmnist/pathmnist.npz\n",
            "\u001b[36m(ClientAppActor pid=26553)\u001b[0m Using downloaded and verified file: /root/.medmnist/pathmnist.npz\n",
            "\u001b[36m(ClientAppActor pid=26553)\u001b[0m [Client 5] evaluate, config: {}\n",
            "\u001b[36m(ClientAppActor pid=26553)\u001b[0m Using downloaded and verified file: /root/.medmnist/pathmnist.npz\n",
            "\u001b[36m(ClientAppActor pid=26553)\u001b[0m Using downloaded and verified file: /root/.medmnist/pathmnist.npz\n",
            "\u001b[36m(ClientAppActor pid=26553)\u001b[0m Using downloaded and verified file: /root/.medmnist/pathmnist.npz\n",
            "\u001b[36m(ClientAppActor pid=26553)\u001b[0m [Client 6] evaluate, config: {}\n",
            "\u001b[36m(ClientAppActor pid=26553)\u001b[0m Using downloaded and verified file: /root/.medmnist/pathmnist.npz\n",
            "\u001b[36m(ClientAppActor pid=26553)\u001b[0m Using downloaded and verified file: /root/.medmnist/pathmnist.npz\n",
            "\u001b[36m(ClientAppActor pid=26553)\u001b[0m Using downloaded and verified file: /root/.medmnist/pathmnist.npz\n",
            "\u001b[36m(ClientAppActor pid=26553)\u001b[0m [Client 9] evaluate, config: {}\n"
          ]
        },
        {
          "output_type": "stream",
          "name": "stderr",
          "text": [
            "\u001b[92mINFO \u001b[0m:      aggregate_evaluate: received 10 results and 0 failures\n",
            "\u001b[92mINFO \u001b[0m:      \n",
            "\u001b[92mINFO \u001b[0m:      [ROUND 9]\n",
            "\u001b[92mINFO \u001b[0m:      configure_fit: strategy sampled 10 clients (out of 10)\n"
          ]
        },
        {
          "output_type": "stream",
          "name": "stdout",
          "text": [
            "\u001b[36m(ClientAppActor pid=26553)\u001b[0m Using downloaded and verified file: /root/.medmnist/pathmnist.npz\n",
            "\u001b[36m(ClientAppActor pid=26553)\u001b[0m Using downloaded and verified file: /root/.medmnist/pathmnist.npz\n",
            "\u001b[36m(ClientAppActor pid=26553)\u001b[0m Using downloaded and verified file: /root/.medmnist/pathmnist.npz\n",
            "\u001b[36m(ClientAppActor pid=26553)\u001b[0m [Client 0] fit, config: {}\n",
            "\u001b[36m(ClientAppActor pid=26553)\u001b[0m [Client 0] get_parameters\n",
            "\u001b[36m(ClientAppActor pid=26553)\u001b[0m Using downloaded and verified file: /root/.medmnist/pathmnist.npz\n",
            "\u001b[36m(ClientAppActor pid=26553)\u001b[0m Using downloaded and verified file: /root/.medmnist/pathmnist.npz\n",
            "\u001b[36m(ClientAppActor pid=26553)\u001b[0m Using downloaded and verified file: /root/.medmnist/pathmnist.npz\n",
            "\u001b[36m(ClientAppActor pid=26553)\u001b[0m [Client 1] fit, config: {}\n",
            "\u001b[36m(ClientAppActor pid=26553)\u001b[0m [Client 1] get_parameters\n",
            "\u001b[36m(ClientAppActor pid=26553)\u001b[0m Using downloaded and verified file: /root/.medmnist/pathmnist.npz\n",
            "\u001b[36m(ClientAppActor pid=26553)\u001b[0m Using downloaded and verified file: /root/.medmnist/pathmnist.npz\n",
            "\u001b[36m(ClientAppActor pid=26553)\u001b[0m Using downloaded and verified file: /root/.medmnist/pathmnist.npz\n",
            "\u001b[36m(ClientAppActor pid=26553)\u001b[0m [Client 4] fit, config: {}\n",
            "\u001b[36m(ClientAppActor pid=26553)\u001b[0m [Client 4] get_parameters\n",
            "\u001b[36m(ClientAppActor pid=26553)\u001b[0m Using downloaded and verified file: /root/.medmnist/pathmnist.npz\n",
            "\u001b[36m(ClientAppActor pid=26553)\u001b[0m Using downloaded and verified file: /root/.medmnist/pathmnist.npz\n",
            "\u001b[36m(ClientAppActor pid=26553)\u001b[0m Using downloaded and verified file: /root/.medmnist/pathmnist.npz\n",
            "\u001b[36m(ClientAppActor pid=26553)\u001b[0m [Client 5] fit, config: {}\n",
            "\u001b[36m(ClientAppActor pid=26553)\u001b[0m [Client 5] get_parameters\n",
            "\u001b[36m(ClientAppActor pid=26553)\u001b[0m Using downloaded and verified file: /root/.medmnist/pathmnist.npz\n",
            "\u001b[36m(ClientAppActor pid=26553)\u001b[0m Using downloaded and verified file: /root/.medmnist/pathmnist.npz\n",
            "\u001b[36m(ClientAppActor pid=26553)\u001b[0m Using downloaded and verified file: /root/.medmnist/pathmnist.npz\n",
            "\u001b[36m(ClientAppActor pid=26553)\u001b[0m [Client 7] fit, config: {}\n",
            "\u001b[36m(ClientAppActor pid=26553)\u001b[0m [Client 7] get_parameters\n",
            "\u001b[36m(ClientAppActor pid=26553)\u001b[0m Using downloaded and verified file: /root/.medmnist/pathmnist.npz\n",
            "\u001b[36m(ClientAppActor pid=26553)\u001b[0m Using downloaded and verified file: /root/.medmnist/pathmnist.npz\n",
            "\u001b[36m(ClientAppActor pid=26553)\u001b[0m Using downloaded and verified file: /root/.medmnist/pathmnist.npz\n",
            "\u001b[36m(ClientAppActor pid=26553)\u001b[0m [Client 9] fit, config: {}\n",
            "\u001b[36m(ClientAppActor pid=26553)\u001b[0m [Client 9] get_parameters\n",
            "\u001b[36m(ClientAppActor pid=26553)\u001b[0m Using downloaded and verified file: /root/.medmnist/pathmnist.npz\n",
            "\u001b[36m(ClientAppActor pid=26553)\u001b[0m Using downloaded and verified file: /root/.medmnist/pathmnist.npz\n",
            "\u001b[36m(ClientAppActor pid=26553)\u001b[0m Using downloaded and verified file: /root/.medmnist/pathmnist.npz\n",
            "\u001b[36m(ClientAppActor pid=26553)\u001b[0m [Client 6] fit, config: {}\n",
            "\u001b[36m(ClientAppActor pid=26553)\u001b[0m [Client 6] get_parameters\n",
            "\u001b[36m(ClientAppActor pid=26553)\u001b[0m Using downloaded and verified file: /root/.medmnist/pathmnist.npz\n",
            "\u001b[36m(ClientAppActor pid=26553)\u001b[0m Using downloaded and verified file: /root/.medmnist/pathmnist.npz\n",
            "\u001b[36m(ClientAppActor pid=26553)\u001b[0m Using downloaded and verified file: /root/.medmnist/pathmnist.npz\n",
            "\u001b[36m(ClientAppActor pid=26553)\u001b[0m [Client 8] fit, config: {}\n",
            "\u001b[36m(ClientAppActor pid=26553)\u001b[0m [Client 8] get_parameters\n",
            "\u001b[36m(ClientAppActor pid=26553)\u001b[0m Using downloaded and verified file: /root/.medmnist/pathmnist.npz\n",
            "\u001b[36m(ClientAppActor pid=26553)\u001b[0m Using downloaded and verified file: /root/.medmnist/pathmnist.npz\n",
            "\u001b[36m(ClientAppActor pid=26553)\u001b[0m Using downloaded and verified file: /root/.medmnist/pathmnist.npz\n",
            "\u001b[36m(ClientAppActor pid=26553)\u001b[0m [Client 2] fit, config: {}\n",
            "\u001b[36m(ClientAppActor pid=26553)\u001b[0m [Client 2] get_parameters\n",
            "\u001b[36m(ClientAppActor pid=26553)\u001b[0m Using downloaded and verified file: /root/.medmnist/pathmnist.npz\n",
            "\u001b[36m(ClientAppActor pid=26553)\u001b[0m Using downloaded and verified file: /root/.medmnist/pathmnist.npz\n",
            "\u001b[36m(ClientAppActor pid=26553)\u001b[0m Using downloaded and verified file: /root/.medmnist/pathmnist.npz\n",
            "\u001b[36m(ClientAppActor pid=26553)\u001b[0m [Client 3] fit, config: {}\n"
          ]
        },
        {
          "output_type": "stream",
          "name": "stderr",
          "text": [
            "\u001b[92mINFO \u001b[0m:      aggregate_fit: received 10 results and 0 failures\n"
          ]
        },
        {
          "output_type": "stream",
          "name": "stdout",
          "text": [
            "\u001b[36m(ClientAppActor pid=26553)\u001b[0m [Client 3] get_parameters\n"
          ]
        },
        {
          "output_type": "stream",
          "name": "stderr",
          "text": [
            "\u001b[92mINFO \u001b[0m:      fit progress: (9, 0.16137040909214884, {'test_acc': 94.4707520891365}, 2215.7996486009997)\n",
            "\u001b[92mINFO \u001b[0m:      configure_evaluate: strategy sampled 10 clients (out of 10)\n"
          ]
        },
        {
          "output_type": "stream",
          "name": "stdout",
          "text": [
            "Global Test Accuracy (Round 9): 94.47%\n",
            "\u001b[36m(ClientAppActor pid=26553)\u001b[0m Using downloaded and verified file: /root/.medmnist/pathmnist.npz\n",
            "\u001b[36m(ClientAppActor pid=26553)\u001b[0m Using downloaded and verified file: /root/.medmnist/pathmnist.npz\n",
            "\u001b[36m(ClientAppActor pid=26553)\u001b[0m Using downloaded and verified file: /root/.medmnist/pathmnist.npz\n",
            "\u001b[36m(ClientAppActor pid=26553)\u001b[0m [Client 2] evaluate, config: {}\n",
            "\u001b[36m(ClientAppActor pid=26553)\u001b[0m Using downloaded and verified file: /root/.medmnist/pathmnist.npz\n",
            "\u001b[36m(ClientAppActor pid=26553)\u001b[0m Using downloaded and verified file: /root/.medmnist/pathmnist.npz\n",
            "\u001b[36m(ClientAppActor pid=26553)\u001b[0m Using downloaded and verified file: /root/.medmnist/pathmnist.npz\n",
            "\u001b[36m(ClientAppActor pid=26553)\u001b[0m [Client 3] evaluate, config: {}\n",
            "\u001b[36m(ClientAppActor pid=26553)\u001b[0m Using downloaded and verified file: /root/.medmnist/pathmnist.npz\n",
            "\u001b[36m(ClientAppActor pid=26553)\u001b[0m Using downloaded and verified file: /root/.medmnist/pathmnist.npz\n",
            "\u001b[36m(ClientAppActor pid=26553)\u001b[0m Using downloaded and verified file: /root/.medmnist/pathmnist.npz\n",
            "\u001b[36m(ClientAppActor pid=26553)\u001b[0m [Client 6] evaluate, config: {}\n",
            "\u001b[36m(ClientAppActor pid=26553)\u001b[0m Using downloaded and verified file: /root/.medmnist/pathmnist.npz\n",
            "\u001b[36m(ClientAppActor pid=26553)\u001b[0m Using downloaded and verified file: /root/.medmnist/pathmnist.npz\n",
            "\u001b[36m(ClientAppActor pid=26553)\u001b[0m Using downloaded and verified file: /root/.medmnist/pathmnist.npz\n",
            "\u001b[36m(ClientAppActor pid=26553)\u001b[0m [Client 9] evaluate, config: {}\n",
            "\u001b[36m(ClientAppActor pid=26553)\u001b[0m Using downloaded and verified file: /root/.medmnist/pathmnist.npz\n",
            "\u001b[36m(ClientAppActor pid=26553)\u001b[0m Using downloaded and verified file: /root/.medmnist/pathmnist.npz\n",
            "\u001b[36m(ClientAppActor pid=26553)\u001b[0m Using downloaded and verified file: /root/.medmnist/pathmnist.npz\n",
            "\u001b[36m(ClientAppActor pid=26553)\u001b[0m [Client 4] evaluate, config: {}\n",
            "\u001b[36m(ClientAppActor pid=26553)\u001b[0m Using downloaded and verified file: /root/.medmnist/pathmnist.npz\n",
            "\u001b[36m(ClientAppActor pid=26553)\u001b[0m Using downloaded and verified file: /root/.medmnist/pathmnist.npz\n",
            "\u001b[36m(ClientAppActor pid=26553)\u001b[0m Using downloaded and verified file: /root/.medmnist/pathmnist.npz\n",
            "\u001b[36m(ClientAppActor pid=26553)\u001b[0m [Client 7] evaluate, config: {}\n",
            "\u001b[36m(ClientAppActor pid=26553)\u001b[0m Using downloaded and verified file: /root/.medmnist/pathmnist.npz\n",
            "\u001b[36m(ClientAppActor pid=26553)\u001b[0m Using downloaded and verified file: /root/.medmnist/pathmnist.npz\n",
            "\u001b[36m(ClientAppActor pid=26553)\u001b[0m Using downloaded and verified file: /root/.medmnist/pathmnist.npz\n",
            "\u001b[36m(ClientAppActor pid=26553)\u001b[0m [Client 0] evaluate, config: {}\n",
            "\u001b[36m(ClientAppActor pid=26553)\u001b[0m Using downloaded and verified file: /root/.medmnist/pathmnist.npz\n",
            "\u001b[36m(ClientAppActor pid=26553)\u001b[0m Using downloaded and verified file: /root/.medmnist/pathmnist.npz\n",
            "\u001b[36m(ClientAppActor pid=26553)\u001b[0m Using downloaded and verified file: /root/.medmnist/pathmnist.npz\n",
            "\u001b[36m(ClientAppActor pid=26553)\u001b[0m [Client 5] evaluate, config: {}\n",
            "\u001b[36m(ClientAppActor pid=26553)\u001b[0m Using downloaded and verified file: /root/.medmnist/pathmnist.npz\n",
            "\u001b[36m(ClientAppActor pid=26553)\u001b[0m Using downloaded and verified file: /root/.medmnist/pathmnist.npz\n",
            "\u001b[36m(ClientAppActor pid=26553)\u001b[0m Using downloaded and verified file: /root/.medmnist/pathmnist.npz\n",
            "\u001b[36m(ClientAppActor pid=26553)\u001b[0m [Client 8] evaluate, config: {}\n",
            "\u001b[36m(ClientAppActor pid=26553)\u001b[0m Using downloaded and verified file: /root/.medmnist/pathmnist.npz\n",
            "\u001b[36m(ClientAppActor pid=26553)\u001b[0m Using downloaded and verified file: /root/.medmnist/pathmnist.npz\n",
            "\u001b[36m(ClientAppActor pid=26553)\u001b[0m Using downloaded and verified file: /root/.medmnist/pathmnist.npz\n",
            "\u001b[36m(ClientAppActor pid=26553)\u001b[0m [Client 1] evaluate, config: {}\n"
          ]
        },
        {
          "output_type": "stream",
          "name": "stderr",
          "text": [
            "\u001b[92mINFO \u001b[0m:      aggregate_evaluate: received 10 results and 0 failures\n",
            "\u001b[92mINFO \u001b[0m:      \n",
            "\u001b[92mINFO \u001b[0m:      [ROUND 10]\n",
            "\u001b[92mINFO \u001b[0m:      configure_fit: strategy sampled 10 clients (out of 10)\n"
          ]
        },
        {
          "output_type": "stream",
          "name": "stdout",
          "text": [
            "\u001b[36m(ClientAppActor pid=26553)\u001b[0m Using downloaded and verified file: /root/.medmnist/pathmnist.npz\n",
            "\u001b[36m(ClientAppActor pid=26553)\u001b[0m Using downloaded and verified file: /root/.medmnist/pathmnist.npz\n",
            "\u001b[36m(ClientAppActor pid=26553)\u001b[0m Using downloaded and verified file: /root/.medmnist/pathmnist.npz\n",
            "\u001b[36m(ClientAppActor pid=26553)\u001b[0m [Client 2] fit, config: {}\n",
            "\u001b[36m(ClientAppActor pid=26553)\u001b[0m [Client 2] get_parameters\n",
            "\u001b[36m(ClientAppActor pid=26553)\u001b[0m Using downloaded and verified file: /root/.medmnist/pathmnist.npz\n",
            "\u001b[36m(ClientAppActor pid=26553)\u001b[0m Using downloaded and verified file: /root/.medmnist/pathmnist.npz\n",
            "\u001b[36m(ClientAppActor pid=26553)\u001b[0m Using downloaded and verified file: /root/.medmnist/pathmnist.npz\n",
            "\u001b[36m(ClientAppActor pid=26553)\u001b[0m [Client 4] fit, config: {}\n",
            "\u001b[36m(ClientAppActor pid=26553)\u001b[0m [Client 4] get_parameters\n",
            "\u001b[36m(ClientAppActor pid=26553)\u001b[0m Using downloaded and verified file: /root/.medmnist/pathmnist.npz\n",
            "\u001b[36m(ClientAppActor pid=26553)\u001b[0m Using downloaded and verified file: /root/.medmnist/pathmnist.npz\n",
            "\u001b[36m(ClientAppActor pid=26553)\u001b[0m Using downloaded and verified file: /root/.medmnist/pathmnist.npz\n",
            "\u001b[36m(ClientAppActor pid=26553)\u001b[0m [Client 5] fit, config: {}\n",
            "\u001b[36m(ClientAppActor pid=26553)\u001b[0m [Client 5] get_parameters\n",
            "\u001b[36m(ClientAppActor pid=26553)\u001b[0m Using downloaded and verified file: /root/.medmnist/pathmnist.npz\n",
            "\u001b[36m(ClientAppActor pid=26553)\u001b[0m Using downloaded and verified file: /root/.medmnist/pathmnist.npz\n",
            "\u001b[36m(ClientAppActor pid=26553)\u001b[0m Using downloaded and verified file: /root/.medmnist/pathmnist.npz\n",
            "\u001b[36m(ClientAppActor pid=26553)\u001b[0m [Client 6] fit, config: {}\n",
            "\u001b[36m(ClientAppActor pid=26553)\u001b[0m [Client 6] get_parameters\n",
            "\u001b[36m(ClientAppActor pid=26553)\u001b[0m Using downloaded and verified file: /root/.medmnist/pathmnist.npz\n",
            "\u001b[36m(ClientAppActor pid=26553)\u001b[0m Using downloaded and verified file: /root/.medmnist/pathmnist.npz\n",
            "\u001b[36m(ClientAppActor pid=26553)\u001b[0m Using downloaded and verified file: /root/.medmnist/pathmnist.npz\n",
            "\u001b[36m(ClientAppActor pid=26553)\u001b[0m [Client 9] fit, config: {}\n",
            "\u001b[36m(ClientAppActor pid=26553)\u001b[0m [Client 9] get_parameters\n",
            "\u001b[36m(ClientAppActor pid=26553)\u001b[0m Using downloaded and verified file: /root/.medmnist/pathmnist.npz\n",
            "\u001b[36m(ClientAppActor pid=26553)\u001b[0m Using downloaded and verified file: /root/.medmnist/pathmnist.npz\n",
            "\u001b[36m(ClientAppActor pid=26553)\u001b[0m Using downloaded and verified file: /root/.medmnist/pathmnist.npz\n",
            "\u001b[36m(ClientAppActor pid=26553)\u001b[0m [Client 0] fit, config: {}\n",
            "\u001b[36m(ClientAppActor pid=26553)\u001b[0m [Client 0] get_parameters\n",
            "\u001b[36m(ClientAppActor pid=26553)\u001b[0m Using downloaded and verified file: /root/.medmnist/pathmnist.npz\n",
            "\u001b[36m(ClientAppActor pid=26553)\u001b[0m Using downloaded and verified file: /root/.medmnist/pathmnist.npz\n",
            "\u001b[36m(ClientAppActor pid=26553)\u001b[0m Using downloaded and verified file: /root/.medmnist/pathmnist.npz\n",
            "\u001b[36m(ClientAppActor pid=26553)\u001b[0m [Client 3] fit, config: {}\n",
            "\u001b[36m(ClientAppActor pid=26553)\u001b[0m [Client 3] get_parameters\n",
            "\u001b[36m(ClientAppActor pid=26553)\u001b[0m Using downloaded and verified file: /root/.medmnist/pathmnist.npz\n",
            "\u001b[36m(ClientAppActor pid=26553)\u001b[0m Using downloaded and verified file: /root/.medmnist/pathmnist.npz\n",
            "\u001b[36m(ClientAppActor pid=26553)\u001b[0m Using downloaded and verified file: /root/.medmnist/pathmnist.npz\n",
            "\u001b[36m(ClientAppActor pid=26553)\u001b[0m [Client 1] fit, config: {}\n",
            "\u001b[36m(ClientAppActor pid=26553)\u001b[0m [Client 1] get_parameters\n",
            "\u001b[36m(ClientAppActor pid=26553)\u001b[0m Using downloaded and verified file: /root/.medmnist/pathmnist.npz\n",
            "\u001b[36m(ClientAppActor pid=26553)\u001b[0m Using downloaded and verified file: /root/.medmnist/pathmnist.npz\n",
            "\u001b[36m(ClientAppActor pid=26553)\u001b[0m Using downloaded and verified file: /root/.medmnist/pathmnist.npz\n",
            "\u001b[36m(ClientAppActor pid=26553)\u001b[0m [Client 7] fit, config: {}\n",
            "\u001b[36m(ClientAppActor pid=26553)\u001b[0m [Client 7] get_parameters\n",
            "\u001b[36m(ClientAppActor pid=26553)\u001b[0m Using downloaded and verified file: /root/.medmnist/pathmnist.npz\n",
            "\u001b[36m(ClientAppActor pid=26553)\u001b[0m Using downloaded and verified file: /root/.medmnist/pathmnist.npz\n",
            "\u001b[36m(ClientAppActor pid=26553)\u001b[0m Using downloaded and verified file: /root/.medmnist/pathmnist.npz\n",
            "\u001b[36m(ClientAppActor pid=26553)\u001b[0m [Client 8] fit, config: {}\n"
          ]
        },
        {
          "output_type": "stream",
          "name": "stderr",
          "text": [
            "\u001b[92mINFO \u001b[0m:      aggregate_fit: received 10 results and 0 failures\n"
          ]
        },
        {
          "output_type": "stream",
          "name": "stdout",
          "text": [
            "\u001b[36m(ClientAppActor pid=26553)\u001b[0m [Client 8] get_parameters\n"
          ]
        },
        {
          "output_type": "stream",
          "name": "stderr",
          "text": [
            "\u001b[92mINFO \u001b[0m:      fit progress: (10, 0.17149236405977106, {'test_acc': 94.33147632311977}, 2465.7005178500003)\n",
            "\u001b[92mINFO \u001b[0m:      configure_evaluate: strategy sampled 10 clients (out of 10)\n"
          ]
        },
        {
          "output_type": "stream",
          "name": "stdout",
          "text": [
            "Global Test Accuracy (Round 10): 94.33%\n",
            "\u001b[36m(ClientAppActor pid=26553)\u001b[0m Using downloaded and verified file: /root/.medmnist/pathmnist.npz\n",
            "\u001b[36m(ClientAppActor pid=26553)\u001b[0m Using downloaded and verified file: /root/.medmnist/pathmnist.npz\n",
            "\u001b[36m(ClientAppActor pid=26553)\u001b[0m Using downloaded and verified file: /root/.medmnist/pathmnist.npz\n",
            "\u001b[36m(ClientAppActor pid=26553)\u001b[0m [Client 1] evaluate, config: {}\n",
            "\u001b[36m(ClientAppActor pid=26553)\u001b[0m Using downloaded and verified file: /root/.medmnist/pathmnist.npz\n",
            "\u001b[36m(ClientAppActor pid=26553)\u001b[0m Using downloaded and verified file: /root/.medmnist/pathmnist.npz\n",
            "\u001b[36m(ClientAppActor pid=26553)\u001b[0m Using downloaded and verified file: /root/.medmnist/pathmnist.npz\n",
            "\u001b[36m(ClientAppActor pid=26553)\u001b[0m [Client 2] evaluate, config: {}\n",
            "\u001b[36m(ClientAppActor pid=26553)\u001b[0m Using downloaded and verified file: /root/.medmnist/pathmnist.npz\n",
            "\u001b[36m(ClientAppActor pid=26553)\u001b[0m Using downloaded and verified file: /root/.medmnist/pathmnist.npz\n",
            "\u001b[36m(ClientAppActor pid=26553)\u001b[0m Using downloaded and verified file: /root/.medmnist/pathmnist.npz\n",
            "\u001b[36m(ClientAppActor pid=26553)\u001b[0m [Client 3] evaluate, config: {}\n",
            "\u001b[36m(ClientAppActor pid=26553)\u001b[0m Using downloaded and verified file: /root/.medmnist/pathmnist.npz\n",
            "\u001b[36m(ClientAppActor pid=26553)\u001b[0m Using downloaded and verified file: /root/.medmnist/pathmnist.npz\n",
            "\u001b[36m(ClientAppActor pid=26553)\u001b[0m Using downloaded and verified file: /root/.medmnist/pathmnist.npz\n",
            "\u001b[36m(ClientAppActor pid=26553)\u001b[0m [Client 0] evaluate, config: {}\n",
            "\u001b[36m(ClientAppActor pid=26553)\u001b[0m Using downloaded and verified file: /root/.medmnist/pathmnist.npz\n",
            "\u001b[36m(ClientAppActor pid=26553)\u001b[0m Using downloaded and verified file: /root/.medmnist/pathmnist.npz\n",
            "\u001b[36m(ClientAppActor pid=26553)\u001b[0m Using downloaded and verified file: /root/.medmnist/pathmnist.npz\n",
            "\u001b[36m(ClientAppActor pid=26553)\u001b[0m [Client 6] evaluate, config: {}\n",
            "\u001b[36m(ClientAppActor pid=26553)\u001b[0m Using downloaded and verified file: /root/.medmnist/pathmnist.npz\n",
            "\u001b[36m(ClientAppActor pid=26553)\u001b[0m Using downloaded and verified file: /root/.medmnist/pathmnist.npz\n",
            "\u001b[36m(ClientAppActor pid=26553)\u001b[0m Using downloaded and verified file: /root/.medmnist/pathmnist.npz\n",
            "\u001b[36m(ClientAppActor pid=26553)\u001b[0m [Client 4] evaluate, config: {}\n",
            "\u001b[36m(ClientAppActor pid=26553)\u001b[0m Using downloaded and verified file: /root/.medmnist/pathmnist.npz\n",
            "\u001b[36m(ClientAppActor pid=26553)\u001b[0m Using downloaded and verified file: /root/.medmnist/pathmnist.npz\n",
            "\u001b[36m(ClientAppActor pid=26553)\u001b[0m Using downloaded and verified file: /root/.medmnist/pathmnist.npz\n",
            "\u001b[36m(ClientAppActor pid=26553)\u001b[0m [Client 5] evaluate, config: {}\n",
            "\u001b[36m(ClientAppActor pid=26553)\u001b[0m Using downloaded and verified file: /root/.medmnist/pathmnist.npz\n",
            "\u001b[36m(ClientAppActor pid=26553)\u001b[0m Using downloaded and verified file: /root/.medmnist/pathmnist.npz\n",
            "\u001b[36m(ClientAppActor pid=26553)\u001b[0m Using downloaded and verified file: /root/.medmnist/pathmnist.npz\n",
            "\u001b[36m(ClientAppActor pid=26553)\u001b[0m [Client 8] evaluate, config: {}\n",
            "\u001b[36m(ClientAppActor pid=26553)\u001b[0m Using downloaded and verified file: /root/.medmnist/pathmnist.npz\n",
            "\u001b[36m(ClientAppActor pid=26553)\u001b[0m Using downloaded and verified file: /root/.medmnist/pathmnist.npz\n",
            "\u001b[36m(ClientAppActor pid=26553)\u001b[0m Using downloaded and verified file: /root/.medmnist/pathmnist.npz\n",
            "\u001b[36m(ClientAppActor pid=26553)\u001b[0m [Client 9] evaluate, config: {}\n",
            "\u001b[36m(ClientAppActor pid=26553)\u001b[0m Using downloaded and verified file: /root/.medmnist/pathmnist.npz\n",
            "\u001b[36m(ClientAppActor pid=26553)\u001b[0m Using downloaded and verified file: /root/.medmnist/pathmnist.npz\n",
            "\u001b[36m(ClientAppActor pid=26553)\u001b[0m Using downloaded and verified file: /root/.medmnist/pathmnist.npz\n",
            "\u001b[36m(ClientAppActor pid=26553)\u001b[0m [Client 7] evaluate, config: {}\n"
          ]
        },
        {
          "output_type": "stream",
          "name": "stderr",
          "text": [
            "\u001b[92mINFO \u001b[0m:      aggregate_evaluate: received 10 results and 0 failures\n",
            "\u001b[92mINFO \u001b[0m:      \n",
            "\u001b[92mINFO \u001b[0m:      [SUMMARY]\n",
            "\u001b[92mINFO \u001b[0m:      Run finished 10 round(s) in 2506.77s\n",
            "\u001b[92mINFO \u001b[0m:      \tHistory (loss, distributed):\n",
            "\u001b[92mINFO \u001b[0m:      \t\tround 1: 0.35853739231824877\n",
            "\u001b[92mINFO \u001b[0m:      \t\tround 2: 0.20683862410951406\n",
            "\u001b[92mINFO \u001b[0m:      \t\tround 3: 0.13709339497145265\n",
            "\u001b[92mINFO \u001b[0m:      \t\tround 4: 0.10629255592357367\n",
            "\u001b[92mINFO \u001b[0m:      \t\tround 5: 0.1083076471753884\n",
            "\u001b[92mINFO \u001b[0m:      \t\tround 6: 0.08097355372738094\n",
            "\u001b[92mINFO \u001b[0m:      \t\tround 7: 0.09009558866964654\n",
            "\u001b[92mINFO \u001b[0m:      \t\tround 8: 0.07776632728928234\n",
            "\u001b[92mINFO \u001b[0m:      \t\tround 9: 0.07731109516462312\n",
            "\u001b[92mINFO \u001b[0m:      \t\tround 10: 0.07267823737929575\n",
            "\u001b[92mINFO \u001b[0m:      \tHistory (loss, centralized):\n",
            "\u001b[92mINFO \u001b[0m:      \t\tround 0: 2.2418632359631294\n",
            "\u001b[92mINFO \u001b[0m:      \t\tround 1: 0.40018681377436205\n",
            "\u001b[92mINFO \u001b[0m:      \t\tround 2: 0.2593838068763767\n",
            "\u001b[92mINFO \u001b[0m:      \t\tround 3: 0.18495029870387727\n",
            "\u001b[92mINFO \u001b[0m:      \t\tround 4: 0.16632407883890962\n",
            "\u001b[92mINFO \u001b[0m:      \t\tround 5: 0.1767552546431533\n",
            "\u001b[92mINFO \u001b[0m:      \t\tround 6: 0.15996927906454136\n",
            "\u001b[92mINFO \u001b[0m:      \t\tround 7: 0.17391146844730968\n",
            "\u001b[92mINFO \u001b[0m:      \t\tround 8: 0.18163899101514733\n",
            "\u001b[92mINFO \u001b[0m:      \t\tround 9: 0.16137040909214884\n",
            "\u001b[92mINFO \u001b[0m:      \t\tround 10: 0.17149236405977106\n",
            "\u001b[92mINFO \u001b[0m:      \tHistory (metrics, distributed, evaluate):\n",
            "\u001b[92mINFO \u001b[0m:      \t{'val_acc': [(1, 87.22504495504495),\n",
            "\u001b[92mINFO \u001b[0m:      \t             (2, 92.87308691308691),\n",
            "\u001b[92mINFO \u001b[0m:      \t             (3, 95.62176823176821),\n",
            "\u001b[92mINFO \u001b[0m:      \t             (4, 96.56141858141856),\n",
            "\u001b[92mINFO \u001b[0m:      \t             (5, 96.69137862137862),\n",
            "\u001b[92mINFO \u001b[0m:      \t             (6, 97.2411188811189),\n",
            "\u001b[92mINFO \u001b[0m:      \t             (7, 97.09128871128871),\n",
            "\u001b[92mINFO \u001b[0m:      \t             (8, 97.44110889110888),\n",
            "\u001b[92mINFO \u001b[0m:      \t             (9, 97.55092907092907),\n",
            "\u001b[92mINFO \u001b[0m:      \t             (10, 97.72088911088913)]}\n",
            "\u001b[92mINFO \u001b[0m:      \tHistory (metrics, centralized):\n",
            "\u001b[92mINFO \u001b[0m:      \t{'test_acc': [(0, 5.52924791086351),\n",
            "\u001b[92mINFO \u001b[0m:      \t              (1, 86.54596100278552),\n",
            "\u001b[92mINFO \u001b[0m:      \t              (2, 90.96100278551532),\n",
            "\u001b[92mINFO \u001b[0m:      \t              (3, 93.87186629526462),\n",
            "\u001b[92mINFO \u001b[0m:      \t              (4, 94.13649025069638),\n",
            "\u001b[92mINFO \u001b[0m:      \t              (5, 93.50974930362116),\n",
            "\u001b[92mINFO \u001b[0m:      \t              (6, 94.72144846796657),\n",
            "\u001b[92mINFO \u001b[0m:      \t              (7, 93.4958217270195),\n",
            "\u001b[92mINFO \u001b[0m:      \t              (8, 93.89972144846797),\n",
            "\u001b[92mINFO \u001b[0m:      \t              (9, 94.4707520891365),\n",
            "\u001b[92mINFO \u001b[0m:      \t              (10, 94.33147632311977)]}\n",
            "\u001b[92mINFO \u001b[0m:      \n"
          ]
        }
      ],
      "source": [
        "# Start simulation\n",
        "run_simulation(\n",
        "    server_app=server_app,\n",
        "    client_app=client_app,\n",
        "    num_supernodes=NUM_CLIENTS,\n",
        "    backend_config=backend_config,\n",
        "    )"
      ]
    }
  ],
  "metadata": {
    "kernelspec": {
      "display_name": "Python 3",
      "name": "python3"
    },
    "language_info": {
      "codemirror_mode": {
        "name": "ipython",
        "version": 3
      },
      "file_extension": ".py",
      "mimetype": "text/x-python",
      "name": "python",
      "nbconvert_exporter": "python",
      "pygments_lexer": "ipython3",
      "version": "3.11.0"
    },
    "colab": {
      "provenance": [],
      "machine_shape": "hm",
      "gpuType": "L4"
    },
    "accelerator": "GPU"
  },
  "nbformat": 4,
  "nbformat_minor": 0
}